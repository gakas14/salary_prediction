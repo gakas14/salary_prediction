{
 "cells": [
  {
   "cell_type": "code",
   "execution_count": 1,
   "id": "205efee0",
   "metadata": {},
   "outputs": [],
   "source": [
    "import pandas as pd\n",
    "import numpy as np\n",
    "import matplotlib.pyplot as plt"
   ]
  },
  {
   "cell_type": "code",
   "execution_count": 2,
   "id": "5b32da91",
   "metadata": {},
   "outputs": [],
   "source": [
    "raw_data = pd.read_csv(\"survey_results_public.csv\")"
   ]
  },
  {
   "cell_type": "code",
   "execution_count": 3,
   "id": "4ad8b135",
   "metadata": {},
   "outputs": [
    {
     "data": {
      "text/html": [
       "<div>\n",
       "<style scoped>\n",
       "    .dataframe tbody tr th:only-of-type {\n",
       "        vertical-align: middle;\n",
       "    }\n",
       "\n",
       "    .dataframe tbody tr th {\n",
       "        vertical-align: top;\n",
       "    }\n",
       "\n",
       "    .dataframe thead th {\n",
       "        text-align: right;\n",
       "    }\n",
       "</style>\n",
       "<table border=\"1\" class=\"dataframe\">\n",
       "  <thead>\n",
       "    <tr style=\"text-align: right;\">\n",
       "      <th></th>\n",
       "      <th>ResponseId</th>\n",
       "      <th>MainBranch</th>\n",
       "      <th>Employment</th>\n",
       "      <th>Country</th>\n",
       "      <th>US_State</th>\n",
       "      <th>UK_Country</th>\n",
       "      <th>EdLevel</th>\n",
       "      <th>Age1stCode</th>\n",
       "      <th>LearnCode</th>\n",
       "      <th>YearsCode</th>\n",
       "      <th>...</th>\n",
       "      <th>Age</th>\n",
       "      <th>Gender</th>\n",
       "      <th>Trans</th>\n",
       "      <th>Sexuality</th>\n",
       "      <th>Ethnicity</th>\n",
       "      <th>Accessibility</th>\n",
       "      <th>MentalHealth</th>\n",
       "      <th>SurveyLength</th>\n",
       "      <th>SurveyEase</th>\n",
       "      <th>ConvertedCompYearly</th>\n",
       "    </tr>\n",
       "  </thead>\n",
       "  <tbody>\n",
       "    <tr>\n",
       "      <th>0</th>\n",
       "      <td>1</td>\n",
       "      <td>I am a developer by profession</td>\n",
       "      <td>Independent contractor, freelancer, or self-em...</td>\n",
       "      <td>Slovakia</td>\n",
       "      <td>NaN</td>\n",
       "      <td>NaN</td>\n",
       "      <td>Secondary school (e.g. American high school, G...</td>\n",
       "      <td>18 - 24 years</td>\n",
       "      <td>Coding Bootcamp;Other online resources (ex: vi...</td>\n",
       "      <td>NaN</td>\n",
       "      <td>...</td>\n",
       "      <td>25-34 years old</td>\n",
       "      <td>Man</td>\n",
       "      <td>No</td>\n",
       "      <td>Straight / Heterosexual</td>\n",
       "      <td>White or of European descent</td>\n",
       "      <td>None of the above</td>\n",
       "      <td>None of the above</td>\n",
       "      <td>Appropriate in length</td>\n",
       "      <td>Easy</td>\n",
       "      <td>62268.0</td>\n",
       "    </tr>\n",
       "    <tr>\n",
       "      <th>1</th>\n",
       "      <td>2</td>\n",
       "      <td>I am a student who is learning to code</td>\n",
       "      <td>Student, full-time</td>\n",
       "      <td>Netherlands</td>\n",
       "      <td>NaN</td>\n",
       "      <td>NaN</td>\n",
       "      <td>Bachelor’s degree (B.A., B.S., B.Eng., etc.)</td>\n",
       "      <td>11 - 17 years</td>\n",
       "      <td>Other online resources (ex: videos, blogs, etc...</td>\n",
       "      <td>7</td>\n",
       "      <td>...</td>\n",
       "      <td>18-24 years old</td>\n",
       "      <td>Man</td>\n",
       "      <td>No</td>\n",
       "      <td>Straight / Heterosexual</td>\n",
       "      <td>White or of European descent</td>\n",
       "      <td>None of the above</td>\n",
       "      <td>None of the above</td>\n",
       "      <td>Appropriate in length</td>\n",
       "      <td>Easy</td>\n",
       "      <td>NaN</td>\n",
       "    </tr>\n",
       "    <tr>\n",
       "      <th>2</th>\n",
       "      <td>3</td>\n",
       "      <td>I am not primarily a developer, but I write co...</td>\n",
       "      <td>Student, full-time</td>\n",
       "      <td>Russian Federation</td>\n",
       "      <td>NaN</td>\n",
       "      <td>NaN</td>\n",
       "      <td>Bachelor’s degree (B.A., B.S., B.Eng., etc.)</td>\n",
       "      <td>11 - 17 years</td>\n",
       "      <td>Other online resources (ex: videos, blogs, etc...</td>\n",
       "      <td>NaN</td>\n",
       "      <td>...</td>\n",
       "      <td>18-24 years old</td>\n",
       "      <td>Man</td>\n",
       "      <td>No</td>\n",
       "      <td>Prefer not to say</td>\n",
       "      <td>Prefer not to say</td>\n",
       "      <td>None of the above</td>\n",
       "      <td>None of the above</td>\n",
       "      <td>Appropriate in length</td>\n",
       "      <td>Easy</td>\n",
       "      <td>NaN</td>\n",
       "    </tr>\n",
       "    <tr>\n",
       "      <th>3</th>\n",
       "      <td>4</td>\n",
       "      <td>I am a developer by profession</td>\n",
       "      <td>Employed full-time</td>\n",
       "      <td>Austria</td>\n",
       "      <td>NaN</td>\n",
       "      <td>NaN</td>\n",
       "      <td>Master’s degree (M.A., M.S., M.Eng., MBA, etc.)</td>\n",
       "      <td>11 - 17 years</td>\n",
       "      <td>NaN</td>\n",
       "      <td>NaN</td>\n",
       "      <td>...</td>\n",
       "      <td>35-44 years old</td>\n",
       "      <td>Man</td>\n",
       "      <td>No</td>\n",
       "      <td>Straight / Heterosexual</td>\n",
       "      <td>White or of European descent</td>\n",
       "      <td>I am deaf / hard of hearing</td>\n",
       "      <td>NaN</td>\n",
       "      <td>Appropriate in length</td>\n",
       "      <td>Neither easy nor difficult</td>\n",
       "      <td>NaN</td>\n",
       "    </tr>\n",
       "    <tr>\n",
       "      <th>4</th>\n",
       "      <td>5</td>\n",
       "      <td>I am a developer by profession</td>\n",
       "      <td>Independent contractor, freelancer, or self-em...</td>\n",
       "      <td>United Kingdom of Great Britain and Northern I...</td>\n",
       "      <td>NaN</td>\n",
       "      <td>England</td>\n",
       "      <td>Master’s degree (M.A., M.S., M.Eng., MBA, etc.)</td>\n",
       "      <td>5 - 10 years</td>\n",
       "      <td>Friend or family member</td>\n",
       "      <td>17</td>\n",
       "      <td>...</td>\n",
       "      <td>25-34 years old</td>\n",
       "      <td>Man</td>\n",
       "      <td>No</td>\n",
       "      <td>NaN</td>\n",
       "      <td>White or of European descent</td>\n",
       "      <td>None of the above</td>\n",
       "      <td>NaN</td>\n",
       "      <td>Appropriate in length</td>\n",
       "      <td>Easy</td>\n",
       "      <td>NaN</td>\n",
       "    </tr>\n",
       "  </tbody>\n",
       "</table>\n",
       "<p>5 rows × 48 columns</p>\n",
       "</div>"
      ],
      "text/plain": [
       "   ResponseId                                         MainBranch  \\\n",
       "0           1                     I am a developer by profession   \n",
       "1           2             I am a student who is learning to code   \n",
       "2           3  I am not primarily a developer, but I write co...   \n",
       "3           4                     I am a developer by profession   \n",
       "4           5                     I am a developer by profession   \n",
       "\n",
       "                                          Employment  \\\n",
       "0  Independent contractor, freelancer, or self-em...   \n",
       "1                                 Student, full-time   \n",
       "2                                 Student, full-time   \n",
       "3                                 Employed full-time   \n",
       "4  Independent contractor, freelancer, or self-em...   \n",
       "\n",
       "                                             Country US_State UK_Country  \\\n",
       "0                                           Slovakia      NaN        NaN   \n",
       "1                                        Netherlands      NaN        NaN   \n",
       "2                                 Russian Federation      NaN        NaN   \n",
       "3                                            Austria      NaN        NaN   \n",
       "4  United Kingdom of Great Britain and Northern I...      NaN    England   \n",
       "\n",
       "                                             EdLevel     Age1stCode  \\\n",
       "0  Secondary school (e.g. American high school, G...  18 - 24 years   \n",
       "1       Bachelor’s degree (B.A., B.S., B.Eng., etc.)  11 - 17 years   \n",
       "2       Bachelor’s degree (B.A., B.S., B.Eng., etc.)  11 - 17 years   \n",
       "3    Master’s degree (M.A., M.S., M.Eng., MBA, etc.)  11 - 17 years   \n",
       "4    Master’s degree (M.A., M.S., M.Eng., MBA, etc.)   5 - 10 years   \n",
       "\n",
       "                                           LearnCode YearsCode  ...  \\\n",
       "0  Coding Bootcamp;Other online resources (ex: vi...       NaN  ...   \n",
       "1  Other online resources (ex: videos, blogs, etc...         7  ...   \n",
       "2  Other online resources (ex: videos, blogs, etc...       NaN  ...   \n",
       "3                                                NaN       NaN  ...   \n",
       "4                            Friend or family member        17  ...   \n",
       "\n",
       "               Age Gender Trans                Sexuality  \\\n",
       "0  25-34 years old    Man    No  Straight / Heterosexual   \n",
       "1  18-24 years old    Man    No  Straight / Heterosexual   \n",
       "2  18-24 years old    Man    No        Prefer not to say   \n",
       "3  35-44 years old    Man    No  Straight / Heterosexual   \n",
       "4  25-34 years old    Man    No                      NaN   \n",
       "\n",
       "                      Ethnicity                Accessibility  \\\n",
       "0  White or of European descent            None of the above   \n",
       "1  White or of European descent            None of the above   \n",
       "2             Prefer not to say            None of the above   \n",
       "3  White or of European descent  I am deaf / hard of hearing   \n",
       "4  White or of European descent            None of the above   \n",
       "\n",
       "        MentalHealth           SurveyLength                  SurveyEase  \\\n",
       "0  None of the above  Appropriate in length                        Easy   \n",
       "1  None of the above  Appropriate in length                        Easy   \n",
       "2  None of the above  Appropriate in length                        Easy   \n",
       "3                NaN  Appropriate in length  Neither easy nor difficult   \n",
       "4                NaN  Appropriate in length                        Easy   \n",
       "\n",
       "  ConvertedCompYearly  \n",
       "0             62268.0  \n",
       "1                 NaN  \n",
       "2                 NaN  \n",
       "3                 NaN  \n",
       "4                 NaN  \n",
       "\n",
       "[5 rows x 48 columns]"
      ]
     },
     "execution_count": 3,
     "metadata": {},
     "output_type": "execute_result"
    }
   ],
   "source": [
    "raw_data.head()"
   ]
  },
  {
   "cell_type": "code",
   "execution_count": 4,
   "id": "80fcdf52",
   "metadata": {},
   "outputs": [
    {
     "data": {
      "text/plain": [
       "(83439, 48)"
      ]
     },
     "execution_count": 4,
     "metadata": {},
     "output_type": "execute_result"
    }
   ],
   "source": [
    "# Get the data shape\n",
    "raw_data.shape"
   ]
  },
  {
   "cell_type": "code",
   "execution_count": 5,
   "id": "414422d6",
   "metadata": {},
   "outputs": [
    {
     "data": {
      "text/plain": [
       "Index(['ResponseId', 'MainBranch', 'Employment', 'Country', 'US_State',\n",
       "       'UK_Country', 'EdLevel', 'Age1stCode', 'LearnCode', 'YearsCode',\n",
       "       'YearsCodePro', 'DevType', 'OrgSize', 'Currency', 'CompTotal',\n",
       "       'CompFreq', 'LanguageHaveWorkedWith', 'LanguageWantToWorkWith',\n",
       "       'DatabaseHaveWorkedWith', 'DatabaseWantToWorkWith',\n",
       "       'PlatformHaveWorkedWith', 'PlatformWantToWorkWith',\n",
       "       'WebframeHaveWorkedWith', 'WebframeWantToWorkWith',\n",
       "       'MiscTechHaveWorkedWith', 'MiscTechWantToWorkWith',\n",
       "       'ToolsTechHaveWorkedWith', 'ToolsTechWantToWorkWith',\n",
       "       'NEWCollabToolsHaveWorkedWith', 'NEWCollabToolsWantToWorkWith', 'OpSys',\n",
       "       'NEWStuck', 'NEWSOSites', 'SOVisitFreq', 'SOAccount', 'SOPartFreq',\n",
       "       'SOComm', 'NEWOtherComms', 'Age', 'Gender', 'Trans', 'Sexuality',\n",
       "       'Ethnicity', 'Accessibility', 'MentalHealth', 'SurveyLength',\n",
       "       'SurveyEase', 'ConvertedCompYearly'],\n",
       "      dtype='object')"
      ]
     },
     "execution_count": 5,
     "metadata": {},
     "output_type": "execute_result"
    }
   ],
   "source": [
    "# Get the number of columns\n",
    "raw_data.columns"
   ]
  },
  {
   "cell_type": "code",
   "execution_count": 6,
   "id": "4c478c7c",
   "metadata": {},
   "outputs": [],
   "source": [
    "# Let's keep just fews columns\n",
    "df = raw_data[['Country','EdLevel','YearsCodePro','Employment','ConvertedCompYearly','Age']]"
   ]
  },
  {
   "cell_type": "code",
   "execution_count": 7,
   "id": "dbe4725f",
   "metadata": {},
   "outputs": [
    {
     "data": {
      "text/html": [
       "<div>\n",
       "<style scoped>\n",
       "    .dataframe tbody tr th:only-of-type {\n",
       "        vertical-align: middle;\n",
       "    }\n",
       "\n",
       "    .dataframe tbody tr th {\n",
       "        vertical-align: top;\n",
       "    }\n",
       "\n",
       "    .dataframe thead th {\n",
       "        text-align: right;\n",
       "    }\n",
       "</style>\n",
       "<table border=\"1\" class=\"dataframe\">\n",
       "  <thead>\n",
       "    <tr style=\"text-align: right;\">\n",
       "      <th></th>\n",
       "      <th>Country</th>\n",
       "      <th>EdLevel</th>\n",
       "      <th>YearsCodePro</th>\n",
       "      <th>Employment</th>\n",
       "      <th>Salary</th>\n",
       "      <th>Age</th>\n",
       "    </tr>\n",
       "  </thead>\n",
       "  <tbody>\n",
       "    <tr>\n",
       "      <th>0</th>\n",
       "      <td>Slovakia</td>\n",
       "      <td>Secondary school (e.g. American high school, G...</td>\n",
       "      <td>NaN</td>\n",
       "      <td>Independent contractor, freelancer, or self-em...</td>\n",
       "      <td>62268.0</td>\n",
       "      <td>25-34 years old</td>\n",
       "    </tr>\n",
       "    <tr>\n",
       "      <th>1</th>\n",
       "      <td>Netherlands</td>\n",
       "      <td>Bachelor’s degree (B.A., B.S., B.Eng., etc.)</td>\n",
       "      <td>NaN</td>\n",
       "      <td>Student, full-time</td>\n",
       "      <td>NaN</td>\n",
       "      <td>18-24 years old</td>\n",
       "    </tr>\n",
       "    <tr>\n",
       "      <th>2</th>\n",
       "      <td>Russian Federation</td>\n",
       "      <td>Bachelor’s degree (B.A., B.S., B.Eng., etc.)</td>\n",
       "      <td>NaN</td>\n",
       "      <td>Student, full-time</td>\n",
       "      <td>NaN</td>\n",
       "      <td>18-24 years old</td>\n",
       "    </tr>\n",
       "    <tr>\n",
       "      <th>3</th>\n",
       "      <td>Austria</td>\n",
       "      <td>Master’s degree (M.A., M.S., M.Eng., MBA, etc.)</td>\n",
       "      <td>NaN</td>\n",
       "      <td>Employed full-time</td>\n",
       "      <td>NaN</td>\n",
       "      <td>35-44 years old</td>\n",
       "    </tr>\n",
       "    <tr>\n",
       "      <th>4</th>\n",
       "      <td>United Kingdom of Great Britain and Northern I...</td>\n",
       "      <td>Master’s degree (M.A., M.S., M.Eng., MBA, etc.)</td>\n",
       "      <td>10</td>\n",
       "      <td>Independent contractor, freelancer, or self-em...</td>\n",
       "      <td>NaN</td>\n",
       "      <td>25-34 years old</td>\n",
       "    </tr>\n",
       "    <tr>\n",
       "      <th>...</th>\n",
       "      <td>...</td>\n",
       "      <td>...</td>\n",
       "      <td>...</td>\n",
       "      <td>...</td>\n",
       "      <td>...</td>\n",
       "      <td>...</td>\n",
       "    </tr>\n",
       "    <tr>\n",
       "      <th>83434</th>\n",
       "      <td>United States of America</td>\n",
       "      <td>Bachelor’s degree (B.A., B.S., B.Eng., etc.)</td>\n",
       "      <td>5</td>\n",
       "      <td>Employed full-time</td>\n",
       "      <td>160500.0</td>\n",
       "      <td>25-34 years old</td>\n",
       "    </tr>\n",
       "    <tr>\n",
       "      <th>83435</th>\n",
       "      <td>Benin</td>\n",
       "      <td>Bachelor’s degree (B.A., B.S., B.Eng., etc.)</td>\n",
       "      <td>2</td>\n",
       "      <td>Independent contractor, freelancer, or self-em...</td>\n",
       "      <td>3960.0</td>\n",
       "      <td>18-24 years old</td>\n",
       "    </tr>\n",
       "    <tr>\n",
       "      <th>83436</th>\n",
       "      <td>United States of America</td>\n",
       "      <td>Secondary school (e.g. American high school, G...</td>\n",
       "      <td>4</td>\n",
       "      <td>Employed full-time</td>\n",
       "      <td>90000.0</td>\n",
       "      <td>25-34 years old</td>\n",
       "    </tr>\n",
       "    <tr>\n",
       "      <th>83437</th>\n",
       "      <td>Canada</td>\n",
       "      <td>Bachelor’s degree (B.A., B.S., B.Eng., etc.)</td>\n",
       "      <td>3</td>\n",
       "      <td>Employed full-time</td>\n",
       "      <td>816816.0</td>\n",
       "      <td>25-34 years old</td>\n",
       "    </tr>\n",
       "    <tr>\n",
       "      <th>83438</th>\n",
       "      <td>Brazil</td>\n",
       "      <td>Professional degree (JD, MD, etc.)</td>\n",
       "      <td>4</td>\n",
       "      <td>Employed full-time</td>\n",
       "      <td>21168.0</td>\n",
       "      <td>18-24 years old</td>\n",
       "    </tr>\n",
       "  </tbody>\n",
       "</table>\n",
       "<p>83439 rows × 6 columns</p>\n",
       "</div>"
      ],
      "text/plain": [
       "                                                 Country  \\\n",
       "0                                               Slovakia   \n",
       "1                                            Netherlands   \n",
       "2                                     Russian Federation   \n",
       "3                                                Austria   \n",
       "4      United Kingdom of Great Britain and Northern I...   \n",
       "...                                                  ...   \n",
       "83434                           United States of America   \n",
       "83435                                              Benin   \n",
       "83436                           United States of America   \n",
       "83437                                             Canada   \n",
       "83438                                             Brazil   \n",
       "\n",
       "                                                 EdLevel YearsCodePro  \\\n",
       "0      Secondary school (e.g. American high school, G...          NaN   \n",
       "1           Bachelor’s degree (B.A., B.S., B.Eng., etc.)          NaN   \n",
       "2           Bachelor’s degree (B.A., B.S., B.Eng., etc.)          NaN   \n",
       "3        Master’s degree (M.A., M.S., M.Eng., MBA, etc.)          NaN   \n",
       "4        Master’s degree (M.A., M.S., M.Eng., MBA, etc.)           10   \n",
       "...                                                  ...          ...   \n",
       "83434       Bachelor’s degree (B.A., B.S., B.Eng., etc.)            5   \n",
       "83435       Bachelor’s degree (B.A., B.S., B.Eng., etc.)            2   \n",
       "83436  Secondary school (e.g. American high school, G...            4   \n",
       "83437       Bachelor’s degree (B.A., B.S., B.Eng., etc.)            3   \n",
       "83438                 Professional degree (JD, MD, etc.)            4   \n",
       "\n",
       "                                              Employment    Salary  \\\n",
       "0      Independent contractor, freelancer, or self-em...   62268.0   \n",
       "1                                     Student, full-time       NaN   \n",
       "2                                     Student, full-time       NaN   \n",
       "3                                     Employed full-time       NaN   \n",
       "4      Independent contractor, freelancer, or self-em...       NaN   \n",
       "...                                                  ...       ...   \n",
       "83434                                 Employed full-time  160500.0   \n",
       "83435  Independent contractor, freelancer, or self-em...    3960.0   \n",
       "83436                                 Employed full-time   90000.0   \n",
       "83437                                 Employed full-time  816816.0   \n",
       "83438                                 Employed full-time   21168.0   \n",
       "\n",
       "                   Age  \n",
       "0      25-34 years old  \n",
       "1      18-24 years old  \n",
       "2      18-24 years old  \n",
       "3      35-44 years old  \n",
       "4      25-34 years old  \n",
       "...                ...  \n",
       "83434  25-34 years old  \n",
       "83435  18-24 years old  \n",
       "83436  25-34 years old  \n",
       "83437  25-34 years old  \n",
       "83438  18-24 years old  \n",
       "\n",
       "[83439 rows x 6 columns]"
      ]
     },
     "execution_count": 7,
     "metadata": {},
     "output_type": "execute_result"
    }
   ],
   "source": [
    "# Let's rename convertedCompYearly to salary\n",
    "df = df.rename({'ConvertedCompYearly':'Salary'}, axis=1)\n",
    "df\n"
   ]
  },
  {
   "cell_type": "code",
   "execution_count": 8,
   "id": "2aa2298e",
   "metadata": {},
   "outputs": [
    {
     "data": {
      "text/html": [
       "<div>\n",
       "<style scoped>\n",
       "    .dataframe tbody tr th:only-of-type {\n",
       "        vertical-align: middle;\n",
       "    }\n",
       "\n",
       "    .dataframe tbody tr th {\n",
       "        vertical-align: top;\n",
       "    }\n",
       "\n",
       "    .dataframe thead th {\n",
       "        text-align: right;\n",
       "    }\n",
       "</style>\n",
       "<table border=\"1\" class=\"dataframe\">\n",
       "  <thead>\n",
       "    <tr style=\"text-align: right;\">\n",
       "      <th></th>\n",
       "      <th>Country</th>\n",
       "      <th>EdLevel</th>\n",
       "      <th>YearsCodePro</th>\n",
       "      <th>Employment</th>\n",
       "      <th>Salary</th>\n",
       "      <th>Age</th>\n",
       "    </tr>\n",
       "  </thead>\n",
       "  <tbody>\n",
       "    <tr>\n",
       "      <th>0</th>\n",
       "      <td>Slovakia</td>\n",
       "      <td>Secondary school (e.g. American high school, G...</td>\n",
       "      <td>NaN</td>\n",
       "      <td>Independent contractor, freelancer, or self-em...</td>\n",
       "      <td>62268.0</td>\n",
       "      <td>25-34 years old</td>\n",
       "    </tr>\n",
       "    <tr>\n",
       "      <th>9</th>\n",
       "      <td>Sweden</td>\n",
       "      <td>Master’s degree (M.A., M.S., M.Eng., MBA, etc.)</td>\n",
       "      <td>4</td>\n",
       "      <td>Employed full-time</td>\n",
       "      <td>51552.0</td>\n",
       "      <td>25-34 years old</td>\n",
       "    </tr>\n",
       "    <tr>\n",
       "      <th>11</th>\n",
       "      <td>Spain</td>\n",
       "      <td>Bachelor’s degree (B.A., B.S., B.Eng., etc.)</td>\n",
       "      <td>5</td>\n",
       "      <td>Employed full-time</td>\n",
       "      <td>46482.0</td>\n",
       "      <td>25-34 years old</td>\n",
       "    </tr>\n",
       "    <tr>\n",
       "      <th>12</th>\n",
       "      <td>Germany</td>\n",
       "      <td>Master’s degree (M.A., M.S., M.Eng., MBA, etc.)</td>\n",
       "      <td>6</td>\n",
       "      <td>Employed full-time</td>\n",
       "      <td>77290.0</td>\n",
       "      <td>25-34 years old</td>\n",
       "    </tr>\n",
       "    <tr>\n",
       "      <th>16</th>\n",
       "      <td>Turkey</td>\n",
       "      <td>Bachelor’s degree (B.A., B.S., B.Eng., etc.)</td>\n",
       "      <td>2</td>\n",
       "      <td>Employed full-time</td>\n",
       "      <td>17748.0</td>\n",
       "      <td>25-34 years old</td>\n",
       "    </tr>\n",
       "  </tbody>\n",
       "</table>\n",
       "</div>"
      ],
      "text/plain": [
       "     Country                                            EdLevel YearsCodePro  \\\n",
       "0   Slovakia  Secondary school (e.g. American high school, G...          NaN   \n",
       "9     Sweden    Master’s degree (M.A., M.S., M.Eng., MBA, etc.)            4   \n",
       "11     Spain       Bachelor’s degree (B.A., B.S., B.Eng., etc.)            5   \n",
       "12   Germany    Master’s degree (M.A., M.S., M.Eng., MBA, etc.)            6   \n",
       "16    Turkey       Bachelor’s degree (B.A., B.S., B.Eng., etc.)            2   \n",
       "\n",
       "                                           Employment   Salary  \\\n",
       "0   Independent contractor, freelancer, or self-em...  62268.0   \n",
       "9                                  Employed full-time  51552.0   \n",
       "11                                 Employed full-time  46482.0   \n",
       "12                                 Employed full-time  77290.0   \n",
       "16                                 Employed full-time  17748.0   \n",
       "\n",
       "                Age  \n",
       "0   25-34 years old  \n",
       "9   25-34 years old  \n",
       "11  25-34 years old  \n",
       "12  25-34 years old  \n",
       "16  25-34 years old  "
      ]
     },
     "execution_count": 8,
     "metadata": {},
     "output_type": "execute_result"
    }
   ],
   "source": [
    "#df['Salary'].notnull()\n",
    "df = df[df['Salary'].notnull()]\n",
    "df.head()\n"
   ]
  },
  {
   "cell_type": "code",
   "execution_count": 9,
   "id": "c1361a5b",
   "metadata": {},
   "outputs": [
    {
     "name": "stdout",
     "output_type": "stream",
     "text": [
      "<class 'pandas.core.frame.DataFrame'>\n",
      "Int64Index: 46844 entries, 0 to 83438\n",
      "Data columns (total 6 columns):\n",
      " #   Column        Non-Null Count  Dtype  \n",
      "---  ------        --------------  -----  \n",
      " 0   Country       46844 non-null  object \n",
      " 1   EdLevel       46823 non-null  object \n",
      " 2   YearsCodePro  46391 non-null  object \n",
      " 3   Employment    46831 non-null  object \n",
      " 4   Salary        46844 non-null  float64\n",
      " 5   Age           46735 non-null  object \n",
      "dtypes: float64(1), object(5)\n",
      "memory usage: 2.5+ MB\n"
     ]
    }
   ],
   "source": [
    "df.info()\n"
   ]
  },
  {
   "cell_type": "code",
   "execution_count": 10,
   "id": "b4f7ea8c",
   "metadata": {},
   "outputs": [
    {
     "data": {
      "text/plain": [
       "Country           0\n",
       "EdLevel          21\n",
       "YearsCodePro    453\n",
       "Employment       13\n",
       "Salary            0\n",
       "Age             109\n",
       "dtype: int64"
      ]
     },
     "execution_count": 10,
     "metadata": {},
     "output_type": "execute_result"
    }
   ],
   "source": [
    "# Check for missing values\n",
    "df.isnull().sum()"
   ]
  },
  {
   "cell_type": "code",
   "execution_count": 11,
   "id": "257fa6c2",
   "metadata": {},
   "outputs": [],
   "source": [
    "# Let's drop missing values\n",
    "df = df.dropna()\n"
   ]
  },
  {
   "cell_type": "code",
   "execution_count": 12,
   "id": "c218fff0",
   "metadata": {},
   "outputs": [
    {
     "data": {
      "text/plain": [
       "Country         0\n",
       "EdLevel         0\n",
       "YearsCodePro    0\n",
       "Employment      0\n",
       "Salary          0\n",
       "Age             0\n",
       "dtype: int64"
      ]
     },
     "execution_count": 12,
     "metadata": {},
     "output_type": "execute_result"
    }
   ],
   "source": [
    "df.isnull().sum()\n"
   ]
  },
  {
   "cell_type": "code",
   "execution_count": 13,
   "id": "33a13b65",
   "metadata": {},
   "outputs": [
    {
     "name": "stdout",
     "output_type": "stream",
     "text": [
      "<class 'pandas.core.frame.DataFrame'>\n",
      "Int64Index: 46260 entries, 9 to 83438\n",
      "Data columns (total 6 columns):\n",
      " #   Column        Non-Null Count  Dtype  \n",
      "---  ------        --------------  -----  \n",
      " 0   Country       46260 non-null  object \n",
      " 1   EdLevel       46260 non-null  object \n",
      " 2   YearsCodePro  46260 non-null  object \n",
      " 3   Employment    46260 non-null  object \n",
      " 4   Salary        46260 non-null  float64\n",
      " 5   Age           46260 non-null  object \n",
      "dtypes: float64(1), object(5)\n",
      "memory usage: 2.5+ MB\n"
     ]
    }
   ],
   "source": [
    "df.info()"
   ]
  },
  {
   "cell_type": "code",
   "execution_count": 14,
   "id": "c4b00e06",
   "metadata": {},
   "outputs": [],
   "source": [
    "# Let's keep just full time employement\n",
    "df = df[df['Employment'] == 'Employed full-time']"
   ]
  },
  {
   "cell_type": "code",
   "execution_count": 15,
   "id": "fa6279b0",
   "metadata": {},
   "outputs": [
    {
     "data": {
      "text/html": [
       "<div>\n",
       "<style scoped>\n",
       "    .dataframe tbody tr th:only-of-type {\n",
       "        vertical-align: middle;\n",
       "    }\n",
       "\n",
       "    .dataframe tbody tr th {\n",
       "        vertical-align: top;\n",
       "    }\n",
       "\n",
       "    .dataframe thead th {\n",
       "        text-align: right;\n",
       "    }\n",
       "</style>\n",
       "<table border=\"1\" class=\"dataframe\">\n",
       "  <thead>\n",
       "    <tr style=\"text-align: right;\">\n",
       "      <th></th>\n",
       "      <th>Country</th>\n",
       "      <th>EdLevel</th>\n",
       "      <th>YearsCodePro</th>\n",
       "      <th>Salary</th>\n",
       "      <th>Age</th>\n",
       "    </tr>\n",
       "  </thead>\n",
       "  <tbody>\n",
       "    <tr>\n",
       "      <th>9</th>\n",
       "      <td>Sweden</td>\n",
       "      <td>Master’s degree (M.A., M.S., M.Eng., MBA, etc.)</td>\n",
       "      <td>4</td>\n",
       "      <td>51552.0</td>\n",
       "      <td>25-34 years old</td>\n",
       "    </tr>\n",
       "    <tr>\n",
       "      <th>11</th>\n",
       "      <td>Spain</td>\n",
       "      <td>Bachelor’s degree (B.A., B.S., B.Eng., etc.)</td>\n",
       "      <td>5</td>\n",
       "      <td>46482.0</td>\n",
       "      <td>25-34 years old</td>\n",
       "    </tr>\n",
       "    <tr>\n",
       "      <th>12</th>\n",
       "      <td>Germany</td>\n",
       "      <td>Master’s degree (M.A., M.S., M.Eng., MBA, etc.)</td>\n",
       "      <td>6</td>\n",
       "      <td>77290.0</td>\n",
       "      <td>25-34 years old</td>\n",
       "    </tr>\n",
       "    <tr>\n",
       "      <th>16</th>\n",
       "      <td>Turkey</td>\n",
       "      <td>Bachelor’s degree (B.A., B.S., B.Eng., etc.)</td>\n",
       "      <td>2</td>\n",
       "      <td>17748.0</td>\n",
       "      <td>25-34 years old</td>\n",
       "    </tr>\n",
       "    <tr>\n",
       "      <th>17</th>\n",
       "      <td>Canada</td>\n",
       "      <td>Bachelor’s degree (B.A., B.S., B.Eng., etc.)</td>\n",
       "      <td>6</td>\n",
       "      <td>46135.0</td>\n",
       "      <td>25-34 years old</td>\n",
       "    </tr>\n",
       "    <tr>\n",
       "      <th>...</th>\n",
       "      <td>...</td>\n",
       "      <td>...</td>\n",
       "      <td>...</td>\n",
       "      <td>...</td>\n",
       "      <td>...</td>\n",
       "    </tr>\n",
       "    <tr>\n",
       "      <th>83432</th>\n",
       "      <td>Canada</td>\n",
       "      <td>Bachelor’s degree (B.A., B.S., B.Eng., etc.)</td>\n",
       "      <td>Less than 1 year</td>\n",
       "      <td>80169.0</td>\n",
       "      <td>18-24 years old</td>\n",
       "    </tr>\n",
       "    <tr>\n",
       "      <th>83434</th>\n",
       "      <td>United States of America</td>\n",
       "      <td>Bachelor’s degree (B.A., B.S., B.Eng., etc.)</td>\n",
       "      <td>5</td>\n",
       "      <td>160500.0</td>\n",
       "      <td>25-34 years old</td>\n",
       "    </tr>\n",
       "    <tr>\n",
       "      <th>83436</th>\n",
       "      <td>United States of America</td>\n",
       "      <td>Secondary school (e.g. American high school, G...</td>\n",
       "      <td>4</td>\n",
       "      <td>90000.0</td>\n",
       "      <td>25-34 years old</td>\n",
       "    </tr>\n",
       "    <tr>\n",
       "      <th>83437</th>\n",
       "      <td>Canada</td>\n",
       "      <td>Bachelor’s degree (B.A., B.S., B.Eng., etc.)</td>\n",
       "      <td>3</td>\n",
       "      <td>816816.0</td>\n",
       "      <td>25-34 years old</td>\n",
       "    </tr>\n",
       "    <tr>\n",
       "      <th>83438</th>\n",
       "      <td>Brazil</td>\n",
       "      <td>Professional degree (JD, MD, etc.)</td>\n",
       "      <td>4</td>\n",
       "      <td>21168.0</td>\n",
       "      <td>18-24 years old</td>\n",
       "    </tr>\n",
       "  </tbody>\n",
       "</table>\n",
       "<p>40133 rows × 5 columns</p>\n",
       "</div>"
      ],
      "text/plain": [
       "                        Country  \\\n",
       "9                        Sweden   \n",
       "11                        Spain   \n",
       "12                      Germany   \n",
       "16                       Turkey   \n",
       "17                       Canada   \n",
       "...                         ...   \n",
       "83432                    Canada   \n",
       "83434  United States of America   \n",
       "83436  United States of America   \n",
       "83437                    Canada   \n",
       "83438                    Brazil   \n",
       "\n",
       "                                                 EdLevel      YearsCodePro  \\\n",
       "9        Master’s degree (M.A., M.S., M.Eng., MBA, etc.)                 4   \n",
       "11          Bachelor’s degree (B.A., B.S., B.Eng., etc.)                 5   \n",
       "12       Master’s degree (M.A., M.S., M.Eng., MBA, etc.)                 6   \n",
       "16          Bachelor’s degree (B.A., B.S., B.Eng., etc.)                 2   \n",
       "17          Bachelor’s degree (B.A., B.S., B.Eng., etc.)                 6   \n",
       "...                                                  ...               ...   \n",
       "83432       Bachelor’s degree (B.A., B.S., B.Eng., etc.)  Less than 1 year   \n",
       "83434       Bachelor’s degree (B.A., B.S., B.Eng., etc.)                 5   \n",
       "83436  Secondary school (e.g. American high school, G...                 4   \n",
       "83437       Bachelor’s degree (B.A., B.S., B.Eng., etc.)                 3   \n",
       "83438                 Professional degree (JD, MD, etc.)                 4   \n",
       "\n",
       "         Salary              Age  \n",
       "9       51552.0  25-34 years old  \n",
       "11      46482.0  25-34 years old  \n",
       "12      77290.0  25-34 years old  \n",
       "16      17748.0  25-34 years old  \n",
       "17      46135.0  25-34 years old  \n",
       "...         ...              ...  \n",
       "83432   80169.0  18-24 years old  \n",
       "83434  160500.0  25-34 years old  \n",
       "83436   90000.0  25-34 years old  \n",
       "83437  816816.0  25-34 years old  \n",
       "83438   21168.0  18-24 years old  \n",
       "\n",
       "[40133 rows x 5 columns]"
      ]
     },
     "execution_count": 15,
     "metadata": {},
     "output_type": "execute_result"
    }
   ],
   "source": [
    "# Now let's drop the employement column\n",
    "df = df.drop('Employment', axis=1)\n",
    "df"
   ]
  },
  {
   "cell_type": "code",
   "execution_count": 16,
   "id": "4b1acb27",
   "metadata": {},
   "outputs": [
    {
     "data": {
      "text/plain": [
       "array(['Sweden', 'Spain', 'Germany', 'Turkey', 'Canada', 'France',\n",
       "       'Switzerland',\n",
       "       'United Kingdom of Great Britain and Northern Ireland',\n",
       "       'Russian Federation', 'Israel', 'Ukraine',\n",
       "       'United States of America', 'Brazil', 'Bulgaria', 'Greece',\n",
       "       'Italy', 'Netherlands', 'Poland', 'Hungary', 'Pakistan', 'Nigeria',\n",
       "       'Albania', 'Bangladesh', 'Austria', 'Romania', 'Lithuania',\n",
       "       'Slovenia', 'Croatia', 'Ireland', 'Lebanon', 'Bahrain', 'Egypt',\n",
       "       'Colombia', 'India', 'Australia', 'Belgium', 'Chile', 'Indonesia',\n",
       "       'Iran, Islamic Republic of...', 'Portugal', 'Slovakia', 'Denmark',\n",
       "       'Armenia', 'Finland', 'Hong Kong (S.A.R.)', 'Argentina',\n",
       "       'Costa Rica', 'Peru', 'Japan', 'United Arab Emirates', 'Bolivia',\n",
       "       'South Africa', 'Norway', 'Serbia', 'Malta', 'Malaysia', 'Georgia',\n",
       "       'Belarus', 'Madagascar', 'Czech Republic', 'Singapore', 'Kenya',\n",
       "       'Uruguay', 'Botswana', 'China', 'Mexico', 'Cyprus', 'Jordan',\n",
       "       'Dominican Republic', 'Ecuador', 'Luxembourg', 'Uzbekistan',\n",
       "       'Tunisia', 'South Korea', 'Paraguay', 'Iceland', 'Taiwan',\n",
       "       'Morocco', 'Viet Nam', 'Guatemala', 'Republic of Moldova',\n",
       "       'Kazakhstan', 'Estonia', 'Cuba', 'Latvia', 'Syrian Arab Republic',\n",
       "       'Yemen', 'Thailand', 'Ethiopia', 'Nepal',\n",
       "       'Venezuela, Bolivarian Republic of...', 'Iraq', 'Sri Lanka',\n",
       "       'Philippines', 'Azerbaijan', 'Saudi Arabia', 'Honduras',\n",
       "       'Bosnia and Herzegovina', 'United Republic of Tanzania',\n",
       "       'El Salvador', 'Kosovo', 'Angola', 'New Zealand', 'Dominica',\n",
       "       'The former Yugoslav Republic of Macedonia', 'Nicaragua',\n",
       "       'Mozambique', 'Trinidad and Tobago', 'Nomadic', 'Barbados',\n",
       "       'Mauritius', 'Ghana', 'Myanmar', 'Republic of Korea', 'Cambodia',\n",
       "       'Kyrgyzstan', 'Afghanistan', 'Uganda', 'Swaziland',\n",
       "       'Saint Kitts and Nevis', 'Rwanda', 'Zambia', 'Monaco',\n",
       "       'Turkmenistan', 'Libyan Arab Jamahiriya',\n",
       "       'Democratic Republic of the Congo', 'Montenegro', 'Isle of Man',\n",
       "       'Panama', 'Qatar', 'Belize', 'Benin', 'Kuwait', 'Bhutan',\n",
       "       'Palestine', 'Mongolia', 'Tajikistan', 'Algeria', 'Oman',\n",
       "       \"Côte d'Ivoire\", 'Cameroon', 'Jamaica', 'Guyana',\n",
       "       'Congo, Republic of the...', 'Sudan', 'Namibia', 'Guinea',\n",
       "       'Zimbabwe', 'Senegal', 'Haiti', 'Somalia', 'Andorra', 'Suriname',\n",
       "       'Niger', 'Maldives', 'Saint Lucia', 'Djibouti', 'Malawi',\n",
       "       'San Marino', 'Saint Vincent and the Grenadines',\n",
       "       \"Lao People's Democratic Republic\", 'Lesotho', 'Cape Verde',\n",
       "       'Gambia', 'Mauritania', 'Burundi'], dtype=object)"
      ]
     },
     "execution_count": 16,
     "metadata": {},
     "output_type": "execute_result"
    }
   ],
   "source": [
    "# Count the number of country list\n",
    "country_df = pd.DataFrame(df.Country.value_counts())\n",
    "#country_df\n",
    "df.Country.unique()"
   ]
  },
  {
   "cell_type": "code",
   "execution_count": 17,
   "id": "f4889c03",
   "metadata": {},
   "outputs": [],
   "source": [
    "# Let's cutoff countries with samll entries\n",
    "def country_cutoff(column, cutoff_num):\n",
    "    categories_map = dict()\n",
    "    for i in range(len(column)):\n",
    "        if column.values[i] >= cutoff_num:\n",
    "            categories_map[column.index[i]] = column.index[i]\n",
    "        else:\n",
    "            categories_map[column.index[i]] = 'Other'\n",
    "    return categories_map"
   ]
  },
  {
   "cell_type": "code",
   "execution_count": 18,
   "id": "62ec1de9",
   "metadata": {},
   "outputs": [],
   "source": [
    "# let's call the function\n",
    "#df['Country'].value_counts()\n",
    "country_map = country_cutoff(df['Country'].value_counts(), 250)\n",
    "df['Country'] = df['Country'].map(country_map)"
   ]
  },
  {
   "cell_type": "code",
   "execution_count": 19,
   "id": "40d6e279",
   "metadata": {},
   "outputs": [
    {
     "data": {
      "text/plain": [
       "array(['Sweden', 'Spain', 'Germany', 'Turkey', 'Canada', 'France',\n",
       "       'Switzerland',\n",
       "       'United Kingdom of Great Britain and Northern Ireland',\n",
       "       'Russian Federation', 'Israel', 'Ukraine',\n",
       "       'United States of America', 'Brazil', 'Other', 'Greece', 'Italy',\n",
       "       'Netherlands', 'Poland', 'Pakistan', 'Austria', 'Romania', 'India',\n",
       "       'Australia', 'Belgium', 'Iran, Islamic Republic of...', 'Portugal',\n",
       "       'Denmark', 'Finland', 'Argentina', 'South Africa', 'Norway',\n",
       "       'Czech Republic', 'China', 'Mexico', 'New Zealand'], dtype=object)"
      ]
     },
     "execution_count": 19,
     "metadata": {},
     "output_type": "execute_result"
    }
   ],
   "source": [
    "df['Country'].value_counts()\n",
    "df.Country.unique()"
   ]
  },
  {
   "cell_type": "code",
   "execution_count": 20,
   "id": "6abd2d91",
   "metadata": {},
   "outputs": [
    {
     "data": {
      "image/png": "[encoded data removed]",
      "text/plain": [
       "<Figure size 1440x720 with 1 Axes>"
      ]
     },
     "metadata": {
      "needs_background": "light"
     },
     "output_type": "display_data"
    }
   ],
   "source": [
    "# Let's inspect the salary range \n",
    "# plot the salary base on the countries\n",
    "\n",
    "# Define the plot size\n",
    "fig, ax = plt.subplots(1,1, figsize=(20,10))\n",
    "df.boxplot('Salary','Country', ax=ax)\n",
    "plt.suptitle('Salary US$ VS Countries')\n",
    "#plt.xlabel('')\n",
    "plt.ylabel('Salaries')\n",
    "plt.xticks(rotation=90)\n",
    "plt.show()"
   ]
  },
  {
   "cell_type": "code",
   "execution_count": 21,
   "id": "34b18959",
   "metadata": {},
   "outputs": [],
   "source": [
    "# Let's remove the outliner\n"
   ]
  },
  {
   "cell_type": "code",
   "execution_count": 22,
   "id": "d66d45f9",
   "metadata": {},
   "outputs": [],
   "source": [
    "df = df[df.Salary <= 200000]\n",
    "df = df[df.Salary > 10000]"
   ]
  },
  {
   "cell_type": "code",
   "execution_count": 23,
   "id": "ab2d1ab1",
   "metadata": {},
   "outputs": [
    {
     "data": {
      "text/html": [
       "<div>\n",
       "<style scoped>\n",
       "    .dataframe tbody tr th:only-of-type {\n",
       "        vertical-align: middle;\n",
       "    }\n",
       "\n",
       "    .dataframe tbody tr th {\n",
       "        vertical-align: top;\n",
       "    }\n",
       "\n",
       "    .dataframe thead th {\n",
       "        text-align: right;\n",
       "    }\n",
       "</style>\n",
       "<table border=\"1\" class=\"dataframe\">\n",
       "  <thead>\n",
       "    <tr style=\"text-align: right;\">\n",
       "      <th></th>\n",
       "      <th>Country</th>\n",
       "      <th>EdLevel</th>\n",
       "      <th>YearsCodePro</th>\n",
       "      <th>Salary</th>\n",
       "      <th>Age</th>\n",
       "    </tr>\n",
       "  </thead>\n",
       "  <tbody>\n",
       "    <tr>\n",
       "      <th>9</th>\n",
       "      <td>Sweden</td>\n",
       "      <td>Master’s degree (M.A., M.S., M.Eng., MBA, etc.)</td>\n",
       "      <td>4</td>\n",
       "      <td>51552.0</td>\n",
       "      <td>25-34 years old</td>\n",
       "    </tr>\n",
       "    <tr>\n",
       "      <th>11</th>\n",
       "      <td>Spain</td>\n",
       "      <td>Bachelor’s degree (B.A., B.S., B.Eng., etc.)</td>\n",
       "      <td>5</td>\n",
       "      <td>46482.0</td>\n",
       "      <td>25-34 years old</td>\n",
       "    </tr>\n",
       "    <tr>\n",
       "      <th>12</th>\n",
       "      <td>Germany</td>\n",
       "      <td>Master’s degree (M.A., M.S., M.Eng., MBA, etc.)</td>\n",
       "      <td>6</td>\n",
       "      <td>77290.0</td>\n",
       "      <td>25-34 years old</td>\n",
       "    </tr>\n",
       "    <tr>\n",
       "      <th>16</th>\n",
       "      <td>Turkey</td>\n",
       "      <td>Bachelor’s degree (B.A., B.S., B.Eng., etc.)</td>\n",
       "      <td>2</td>\n",
       "      <td>17748.0</td>\n",
       "      <td>25-34 years old</td>\n",
       "    </tr>\n",
       "    <tr>\n",
       "      <th>17</th>\n",
       "      <td>Canada</td>\n",
       "      <td>Bachelor’s degree (B.A., B.S., B.Eng., etc.)</td>\n",
       "      <td>6</td>\n",
       "      <td>46135.0</td>\n",
       "      <td>25-34 years old</td>\n",
       "    </tr>\n",
       "    <tr>\n",
       "      <th>...</th>\n",
       "      <td>...</td>\n",
       "      <td>...</td>\n",
       "      <td>...</td>\n",
       "      <td>...</td>\n",
       "      <td>...</td>\n",
       "    </tr>\n",
       "    <tr>\n",
       "      <th>83430</th>\n",
       "      <td>United States of America</td>\n",
       "      <td>Master’s degree (M.A., M.S., M.Eng., MBA, etc.)</td>\n",
       "      <td>21</td>\n",
       "      <td>125000.0</td>\n",
       "      <td>45-54 years old</td>\n",
       "    </tr>\n",
       "    <tr>\n",
       "      <th>83432</th>\n",
       "      <td>Canada</td>\n",
       "      <td>Bachelor’s degree (B.A., B.S., B.Eng., etc.)</td>\n",
       "      <td>Less than 1 year</td>\n",
       "      <td>80169.0</td>\n",
       "      <td>18-24 years old</td>\n",
       "    </tr>\n",
       "    <tr>\n",
       "      <th>83434</th>\n",
       "      <td>United States of America</td>\n",
       "      <td>Bachelor’s degree (B.A., B.S., B.Eng., etc.)</td>\n",
       "      <td>5</td>\n",
       "      <td>160500.0</td>\n",
       "      <td>25-34 years old</td>\n",
       "    </tr>\n",
       "    <tr>\n",
       "      <th>83436</th>\n",
       "      <td>United States of America</td>\n",
       "      <td>Secondary school (e.g. American high school, G...</td>\n",
       "      <td>4</td>\n",
       "      <td>90000.0</td>\n",
       "      <td>25-34 years old</td>\n",
       "    </tr>\n",
       "    <tr>\n",
       "      <th>83438</th>\n",
       "      <td>Brazil</td>\n",
       "      <td>Professional degree (JD, MD, etc.)</td>\n",
       "      <td>4</td>\n",
       "      <td>21168.0</td>\n",
       "      <td>18-24 years old</td>\n",
       "    </tr>\n",
       "  </tbody>\n",
       "</table>\n",
       "<p>34458 rows × 5 columns</p>\n",
       "</div>"
      ],
      "text/plain": [
       "                        Country  \\\n",
       "9                        Sweden   \n",
       "11                        Spain   \n",
       "12                      Germany   \n",
       "16                       Turkey   \n",
       "17                       Canada   \n",
       "...                         ...   \n",
       "83430  United States of America   \n",
       "83432                    Canada   \n",
       "83434  United States of America   \n",
       "83436  United States of America   \n",
       "83438                    Brazil   \n",
       "\n",
       "                                                 EdLevel      YearsCodePro  \\\n",
       "9        Master’s degree (M.A., M.S., M.Eng., MBA, etc.)                 4   \n",
       "11          Bachelor’s degree (B.A., B.S., B.Eng., etc.)                 5   \n",
       "12       Master’s degree (M.A., M.S., M.Eng., MBA, etc.)                 6   \n",
       "16          Bachelor’s degree (B.A., B.S., B.Eng., etc.)                 2   \n",
       "17          Bachelor’s degree (B.A., B.S., B.Eng., etc.)                 6   \n",
       "...                                                  ...               ...   \n",
       "83430    Master’s degree (M.A., M.S., M.Eng., MBA, etc.)                21   \n",
       "83432       Bachelor’s degree (B.A., B.S., B.Eng., etc.)  Less than 1 year   \n",
       "83434       Bachelor’s degree (B.A., B.S., B.Eng., etc.)                 5   \n",
       "83436  Secondary school (e.g. American high school, G...                 4   \n",
       "83438                 Professional degree (JD, MD, etc.)                 4   \n",
       "\n",
       "         Salary              Age  \n",
       "9       51552.0  25-34 years old  \n",
       "11      46482.0  25-34 years old  \n",
       "12      77290.0  25-34 years old  \n",
       "16      17748.0  25-34 years old  \n",
       "17      46135.0  25-34 years old  \n",
       "...         ...              ...  \n",
       "83430  125000.0  45-54 years old  \n",
       "83432   80169.0  18-24 years old  \n",
       "83434  160500.0  25-34 years old  \n",
       "83436   90000.0  25-34 years old  \n",
       "83438   21168.0  18-24 years old  \n",
       "\n",
       "[34458 rows x 5 columns]"
      ]
     },
     "execution_count": 23,
     "metadata": {},
     "output_type": "execute_result"
    }
   ],
   "source": [
    "df"
   ]
  },
  {
   "cell_type": "code",
   "execution_count": 24,
   "id": "a42b409a",
   "metadata": {},
   "outputs": [],
   "source": [
    "df = df[df['Country'] != 'Other']"
   ]
  },
  {
   "cell_type": "code",
   "execution_count": 25,
   "id": "1b6796f4",
   "metadata": {},
   "outputs": [
    {
     "data": {
      "text/html": [
       "<div>\n",
       "<style scoped>\n",
       "    .dataframe tbody tr th:only-of-type {\n",
       "        vertical-align: middle;\n",
       "    }\n",
       "\n",
       "    .dataframe tbody tr th {\n",
       "        vertical-align: top;\n",
       "    }\n",
       "\n",
       "    .dataframe thead th {\n",
       "        text-align: right;\n",
       "    }\n",
       "</style>\n",
       "<table border=\"1\" class=\"dataframe\">\n",
       "  <thead>\n",
       "    <tr style=\"text-align: right;\">\n",
       "      <th></th>\n",
       "      <th>Country</th>\n",
       "      <th>EdLevel</th>\n",
       "      <th>YearsCodePro</th>\n",
       "      <th>Salary</th>\n",
       "      <th>Age</th>\n",
       "    </tr>\n",
       "  </thead>\n",
       "  <tbody>\n",
       "    <tr>\n",
       "      <th>9</th>\n",
       "      <td>Sweden</td>\n",
       "      <td>Master’s degree (M.A., M.S., M.Eng., MBA, etc.)</td>\n",
       "      <td>4</td>\n",
       "      <td>51552.0</td>\n",
       "      <td>25-34 years old</td>\n",
       "    </tr>\n",
       "    <tr>\n",
       "      <th>11</th>\n",
       "      <td>Spain</td>\n",
       "      <td>Bachelor’s degree (B.A., B.S., B.Eng., etc.)</td>\n",
       "      <td>5</td>\n",
       "      <td>46482.0</td>\n",
       "      <td>25-34 years old</td>\n",
       "    </tr>\n",
       "    <tr>\n",
       "      <th>12</th>\n",
       "      <td>Germany</td>\n",
       "      <td>Master’s degree (M.A., M.S., M.Eng., MBA, etc.)</td>\n",
       "      <td>6</td>\n",
       "      <td>77290.0</td>\n",
       "      <td>25-34 years old</td>\n",
       "    </tr>\n",
       "    <tr>\n",
       "      <th>16</th>\n",
       "      <td>Turkey</td>\n",
       "      <td>Bachelor’s degree (B.A., B.S., B.Eng., etc.)</td>\n",
       "      <td>2</td>\n",
       "      <td>17748.0</td>\n",
       "      <td>25-34 years old</td>\n",
       "    </tr>\n",
       "    <tr>\n",
       "      <th>17</th>\n",
       "      <td>Canada</td>\n",
       "      <td>Bachelor’s degree (B.A., B.S., B.Eng., etc.)</td>\n",
       "      <td>6</td>\n",
       "      <td>46135.0</td>\n",
       "      <td>25-34 years old</td>\n",
       "    </tr>\n",
       "    <tr>\n",
       "      <th>...</th>\n",
       "      <td>...</td>\n",
       "      <td>...</td>\n",
       "      <td>...</td>\n",
       "      <td>...</td>\n",
       "      <td>...</td>\n",
       "    </tr>\n",
       "    <tr>\n",
       "      <th>83430</th>\n",
       "      <td>United States of America</td>\n",
       "      <td>Master’s degree (M.A., M.S., M.Eng., MBA, etc.)</td>\n",
       "      <td>21</td>\n",
       "      <td>125000.0</td>\n",
       "      <td>45-54 years old</td>\n",
       "    </tr>\n",
       "    <tr>\n",
       "      <th>83432</th>\n",
       "      <td>Canada</td>\n",
       "      <td>Bachelor’s degree (B.A., B.S., B.Eng., etc.)</td>\n",
       "      <td>Less than 1 year</td>\n",
       "      <td>80169.0</td>\n",
       "      <td>18-24 years old</td>\n",
       "    </tr>\n",
       "    <tr>\n",
       "      <th>83434</th>\n",
       "      <td>United States of America</td>\n",
       "      <td>Bachelor’s degree (B.A., B.S., B.Eng., etc.)</td>\n",
       "      <td>5</td>\n",
       "      <td>160500.0</td>\n",
       "      <td>25-34 years old</td>\n",
       "    </tr>\n",
       "    <tr>\n",
       "      <th>83436</th>\n",
       "      <td>United States of America</td>\n",
       "      <td>Secondary school (e.g. American high school, G...</td>\n",
       "      <td>4</td>\n",
       "      <td>90000.0</td>\n",
       "      <td>25-34 years old</td>\n",
       "    </tr>\n",
       "    <tr>\n",
       "      <th>83438</th>\n",
       "      <td>Brazil</td>\n",
       "      <td>Professional degree (JD, MD, etc.)</td>\n",
       "      <td>4</td>\n",
       "      <td>21168.0</td>\n",
       "      <td>18-24 years old</td>\n",
       "    </tr>\n",
       "  </tbody>\n",
       "</table>\n",
       "<p>30063 rows × 5 columns</p>\n",
       "</div>"
      ],
      "text/plain": [
       "                        Country  \\\n",
       "9                        Sweden   \n",
       "11                        Spain   \n",
       "12                      Germany   \n",
       "16                       Turkey   \n",
       "17                       Canada   \n",
       "...                         ...   \n",
       "83430  United States of America   \n",
       "83432                    Canada   \n",
       "83434  United States of America   \n",
       "83436  United States of America   \n",
       "83438                    Brazil   \n",
       "\n",
       "                                                 EdLevel      YearsCodePro  \\\n",
       "9        Master’s degree (M.A., M.S., M.Eng., MBA, etc.)                 4   \n",
       "11          Bachelor’s degree (B.A., B.S., B.Eng., etc.)                 5   \n",
       "12       Master’s degree (M.A., M.S., M.Eng., MBA, etc.)                 6   \n",
       "16          Bachelor’s degree (B.A., B.S., B.Eng., etc.)                 2   \n",
       "17          Bachelor’s degree (B.A., B.S., B.Eng., etc.)                 6   \n",
       "...                                                  ...               ...   \n",
       "83430    Master’s degree (M.A., M.S., M.Eng., MBA, etc.)                21   \n",
       "83432       Bachelor’s degree (B.A., B.S., B.Eng., etc.)  Less than 1 year   \n",
       "83434       Bachelor’s degree (B.A., B.S., B.Eng., etc.)                 5   \n",
       "83436  Secondary school (e.g. American high school, G...                 4   \n",
       "83438                 Professional degree (JD, MD, etc.)                 4   \n",
       "\n",
       "         Salary              Age  \n",
       "9       51552.0  25-34 years old  \n",
       "11      46482.0  25-34 years old  \n",
       "12      77290.0  25-34 years old  \n",
       "16      17748.0  25-34 years old  \n",
       "17      46135.0  25-34 years old  \n",
       "...         ...              ...  \n",
       "83430  125000.0  45-54 years old  \n",
       "83432   80169.0  18-24 years old  \n",
       "83434  160500.0  25-34 years old  \n",
       "83436   90000.0  25-34 years old  \n",
       "83438   21168.0  18-24 years old  \n",
       "\n",
       "[30063 rows x 5 columns]"
      ]
     },
     "execution_count": 25,
     "metadata": {},
     "output_type": "execute_result"
    }
   ],
   "source": [
    "df"
   ]
  },
  {
   "cell_type": "code",
   "execution_count": null,
   "id": "c6ca5f76",
   "metadata": {},
   "outputs": [],
   "source": []
  },
  {
   "cell_type": "code",
   "execution_count": 26,
   "id": "a4666db9",
   "metadata": {},
   "outputs": [
    {
     "data": {
      "image/png": "[encoded data removed]",
      "text/plain": [
       "<Figure size 1440x720 with 1 Axes>"
      ]
     },
     "metadata": {
      "needs_background": "light"
     },
     "output_type": "display_data"
    }
   ],
   "source": [
    "# Let's plot the data again\n",
    "fig, ax = plt.subplots(1,1, figsize=(20,10))\n",
    "df.boxplot('Salary','Country', ax=ax)\n",
    "plt.suptitle('Salary US$ VS Countries')\n",
    "#plt.xlabel('')\n",
    "plt.ylabel('Salaries')\n",
    "plt.xticks(rotation=90)\n",
    "plt.show()"
   ]
  },
  {
   "cell_type": "code",
   "execution_count": 27,
   "id": "27d76749",
   "metadata": {},
   "outputs": [
    {
     "data": {
      "text/plain": [
       "array(['4', '5', '6', '2', '18', '21', '16', '10', 'Less than 1 year',\n",
       "       '3', '15', '12', '8', '17', '1', '14', '26', '34', '11', '25',\n",
       "       '24', '22', '13', '9', '7', '20', '39', '27', '23', '30', '19',\n",
       "       '35', '33', '43', '40', '29', '38', '31', '42', '28', '46', '32',\n",
       "       '36', '37', '47', '45', '44', '41', 'More than 50 years', '50',\n",
       "       '49', '48'], dtype=object)"
      ]
     },
     "execution_count": 27,
     "metadata": {},
     "output_type": "execute_result"
    }
   ],
   "source": [
    "# let's clean the year column\n",
    "df.YearsCodePro.unique()"
   ]
  },
  {
   "cell_type": "code",
   "execution_count": 28,
   "id": "c9abaef8",
   "metadata": {},
   "outputs": [
    {
     "name": "stderr",
     "output_type": "stream",
     "text": [
      "/Users/gakas/salary_prediction/ml_salary_prediction/lib/python3.7/site-packages/ipykernel_launcher.py:9: SettingWithCopyWarning: \n",
      "A value is trying to be set on a copy of a slice from a DataFrame.\n",
      "Try using .loc[row_indexer,col_indexer] = value instead\n",
      "\n",
      "See the caveats in the documentation: https://pandas.pydata.org/pandas-docs/stable/user_guide/indexing.html#returning-a-view-versus-a-copy\n",
      "  if __name__ == '__main__':\n"
     ]
    }
   ],
   "source": [
    "# Create a function to clean the year of coding column\n",
    "def clean_year_of_coding(year):\n",
    "    if year == 'More than 50 years':\n",
    "        return 50\n",
    "    if year == 'Less than 1 year':\n",
    "        return 0.5\n",
    "    return float(year)\n",
    "    \n",
    "df['YearsCodePro'] = df['YearsCodePro'].apply(clean_year_of_coding)"
   ]
  },
  {
   "cell_type": "code",
   "execution_count": 29,
   "id": "84e762c5",
   "metadata": {},
   "outputs": [
    {
     "data": {
      "text/plain": [
       "array([ 4. ,  5. ,  6. ,  2. , 18. , 21. , 16. , 10. ,  0.5,  3. , 15. ,\n",
       "       12. ,  8. , 17. ,  1. , 14. , 26. , 34. , 11. , 25. , 24. , 22. ,\n",
       "       13. ,  9. ,  7. , 20. , 39. , 27. , 23. , 30. , 19. , 35. , 33. ,\n",
       "       43. , 40. , 29. , 38. , 31. , 42. , 28. , 46. , 32. , 36. , 37. ,\n",
       "       47. , 45. , 44. , 41. , 50. , 49. , 48. ])"
      ]
     },
     "execution_count": 29,
     "metadata": {},
     "output_type": "execute_result"
    }
   ],
   "source": [
    "df.YearsCodePro.unique()"
   ]
  },
  {
   "cell_type": "code",
   "execution_count": 30,
   "id": "07c8c516",
   "metadata": {},
   "outputs": [
    {
     "data": {
      "text/plain": [
       "array(['Master’s degree (M.A., M.S., M.Eng., MBA, etc.)',\n",
       "       'Bachelor’s degree (B.A., B.S., B.Eng., etc.)',\n",
       "       'Professional degree (JD, MD, etc.)',\n",
       "       'Some college/university study without earning a degree',\n",
       "       'Other doctoral degree (Ph.D., Ed.D., etc.)', 'Something else',\n",
       "       'Primary/elementary school', 'Associate degree (A.A., A.S., etc.)',\n",
       "       'Secondary school (e.g. American high school, German Realschule or Gymnasium, etc.)'],\n",
       "      dtype=object)"
      ]
     },
     "execution_count": 30,
     "metadata": {},
     "output_type": "execute_result"
    }
   ],
   "source": [
    "# Now let's clean the education column\n",
    "df.EdLevel.unique()"
   ]
  },
  {
   "cell_type": "code",
   "execution_count": 31,
   "id": "23aecafe",
   "metadata": {},
   "outputs": [
    {
     "name": "stderr",
     "output_type": "stream",
     "text": [
      "/Users/gakas/salary_prediction/ml_salary_prediction/lib/python3.7/site-packages/pandas/core/generic.py:5516: SettingWithCopyWarning: \n",
      "A value is trying to be set on a copy of a slice from a DataFrame.\n",
      "Try using .loc[row_indexer,col_indexer] = value instead\n",
      "\n",
      "See the caveats in the documentation: https://pandas.pydata.org/pandas-docs/stable/user_guide/indexing.html#returning-a-view-versus-a-copy\n",
      "  self[name] = value\n"
     ]
    }
   ],
   "source": [
    "# create a function to clean the column\n",
    "def clean_education(edu):\n",
    "    if 'Bachelor’s degree'in edu:\n",
    "        return 'Bachelor’s degree'\n",
    "    elif 'Master’s degree' in edu:\n",
    "        return 'Master’s degree'\n",
    "    elif 'Professional degree'in edu or 'doctoral degree' in edu:\n",
    "        return 'Post grad'\n",
    "    else:\n",
    "        return 'Less than a Bachelors'\n",
    "df.EdLevel = df.EdLevel.apply(clean_education)"
   ]
  },
  {
   "cell_type": "code",
   "execution_count": 32,
   "id": "f3d6a27d",
   "metadata": {},
   "outputs": [
    {
     "data": {
      "text/plain": [
       "array(['Master’s degree', 'Bachelor’s degree', 'Post grad',\n",
       "       'Less than a Bachelors'], dtype=object)"
      ]
     },
     "execution_count": 32,
     "metadata": {},
     "output_type": "execute_result"
    }
   ],
   "source": [
    "df.EdLevel.unique()"
   ]
  },
  {
   "cell_type": "code",
   "execution_count": 33,
   "id": "aa4d9bf1",
   "metadata": {},
   "outputs": [],
   "source": [
    "# Let's clean the age column\n",
    "##def clean_age(age):\n",
    " #  for a in age:\n",
    " #   p = a.split(' ')\n",
    " #   print(p)\n",
    "    #return p[0]\n",
    "#df.Age = df.Age.apply(clean_age)   \n",
    "#clean_age(df.Age)\n",
    "#df.Age.unique()"
   ]
  },
  {
   "cell_type": "code",
   "execution_count": 34,
   "id": "ef4793a7",
   "metadata": {},
   "outputs": [
    {
     "data": {
      "text/plain": [
       "array(['25-34 years old', '35-44 years old', '45-54 years old',\n",
       "       '18-24 years old', '55-64 years old', '65 years or older',\n",
       "       'Under 18 years old', 'Prefer not to say'], dtype=object)"
      ]
     },
     "execution_count": 34,
     "metadata": {},
     "output_type": "execute_result"
    }
   ],
   "source": [
    "df.Age.unique()\n"
   ]
  },
  {
   "cell_type": "code",
   "execution_count": 35,
   "id": "f60682d2",
   "metadata": {},
   "outputs": [
    {
     "data": {
      "text/plain": [
       "9        25-34 years old\n",
       "11       25-34 years old\n",
       "12       25-34 years old\n",
       "16       25-34 years old\n",
       "17       25-34 years old\n",
       "              ...       \n",
       "83430    45-54 years old\n",
       "83432    18-24 years old\n",
       "83434    25-34 years old\n",
       "83436    25-34 years old\n",
       "83438    18-24 years old\n",
       "Name: Age, Length: 30063, dtype: object"
      ]
     },
     "execution_count": 35,
     "metadata": {},
     "output_type": "execute_result"
    }
   ],
   "source": [
    "df.Age"
   ]
  },
  {
   "cell_type": "code",
   "execution_count": 36,
   "id": "f1e85f54",
   "metadata": {},
   "outputs": [
    {
     "data": {
      "text/plain": [
       "'25-34 years old'"
      ]
     },
     "execution_count": 36,
     "metadata": {},
     "output_type": "execute_result"
    }
   ],
   "source": [
    "df['Age'].mode()[0]"
   ]
  },
  {
   "cell_type": "code",
   "execution_count": 37,
   "id": "a6980ed2",
   "metadata": {},
   "outputs": [],
   "source": [
    "# Let's replace Prefer not to say to the mode age\n",
    "m = df['Age'].mode()[0]\n",
    "def age_replace(age, m):\n",
    "    if age == 'Prefer not to say':\n",
    "        #print(age)\n",
    "        return m\n",
    "    else:\n",
    "        return age\n",
    "    \n",
    "#m\n",
    "df.Age = df.Age.apply(lambda x:age_replace(x,m))\n",
    "#lambda x: get_sublist(x.col_1, x.col_2), axis=1)"
   ]
  },
  {
   "cell_type": "code",
   "execution_count": 38,
   "id": "71178776",
   "metadata": {},
   "outputs": [
    {
     "data": {
      "text/plain": [
       "array(['25-34 years old', '35-44 years old', '45-54 years old',\n",
       "       '18-24 years old', '55-64 years old', '65 years or older',\n",
       "       'Under 18 years old'], dtype=object)"
      ]
     },
     "execution_count": 38,
     "metadata": {},
     "output_type": "execute_result"
    }
   ],
   "source": [
    "df.Age.unique()"
   ]
  },
  {
   "cell_type": "code",
   "execution_count": 39,
   "id": "f3bff976",
   "metadata": {},
   "outputs": [
    {
     "data": {
      "text/plain": [
       "9        25-34 years old\n",
       "11       25-34 years old\n",
       "12       25-34 years old\n",
       "16       25-34 years old\n",
       "17       25-34 years old\n",
       "              ...       \n",
       "83430    45-54 years old\n",
       "83432    18-24 years old\n",
       "83434    25-34 years old\n",
       "83436    25-34 years old\n",
       "83438    18-24 years old\n",
       "Name: Age, Length: 30063, dtype: object"
      ]
     },
     "execution_count": 39,
     "metadata": {},
     "output_type": "execute_result"
    }
   ],
   "source": [
    "df.Age"
   ]
  },
  {
   "cell_type": "code",
   "execution_count": 40,
   "id": "79f898a4",
   "metadata": {},
   "outputs": [],
   "source": [
    "# Let's clean the country's name\n",
    "def clean_country_name(name):\n",
    "    if name =='Iran, Islamic Republic of...':\n",
    "        return 'Iran'\n",
    "    elif name == 'United Kingdom of Great Britain and Northern Ireland':\n",
    "        return 'UK'\n",
    "    elif name == 'Russian Federation':\n",
    "        return 'Ruassia'\n",
    "    elif name == 'United States of America':\n",
    "        return 'USA'\n",
    "    else:\n",
    "        return name\n",
    "\n",
    "df.Country = df.Country.apply(clean_country_name)"
   ]
  },
  {
   "cell_type": "markdown",
   "id": "e2e6a440",
   "metadata": {},
   "source": [
    "###\n",
    "    'Sweden', 'Spain', 'Germany', 'Turkey', 'Canada', 'France',\n",
    "       'Switzerland',\n",
    "       'United Kingdom of Great Britain and Northern Ireland',\n",
    "       'Russian Federation', 'Israel', 'Ukraine',\n",
    "       'United States of America', 'Brazil', 'Other', 'Greece', 'Italy',\n",
    "       'Netherlands', 'Poland', 'Pakistan', 'Austria', 'Romania', 'India',\n",
    "       'Australia', 'Belgium', 'Iran, Islamic Republic of...', 'Portugal',\n",
    "       'Denmark', 'Finland', 'Argentina', 'South Africa', 'Norway',\n",
    "       'Czech Republic', 'China', 'Mexico', 'New Zealand'\n",
    " ###   "
   ]
  },
  {
   "cell_type": "code",
   "execution_count": 41,
   "id": "0769575c",
   "metadata": {},
   "outputs": [
    {
     "data": {
      "text/plain": [
       "array(['Sweden', 'Spain', 'Germany', 'Turkey', 'Canada', 'France',\n",
       "       'Switzerland', 'UK', 'Ruassia', 'Israel', 'Ukraine', 'USA',\n",
       "       'Brazil', 'Greece', 'Italy', 'Netherlands', 'Poland', 'Austria',\n",
       "       'Romania', 'Australia', 'Belgium', 'Iran', 'India', 'Denmark',\n",
       "       'Finland', 'Argentina', 'Portugal', 'South Africa', 'Pakistan',\n",
       "       'Norway', 'Czech Republic', 'China', 'Mexico', 'New Zealand'],\n",
       "      dtype=object)"
      ]
     },
     "execution_count": 41,
     "metadata": {},
     "output_type": "execute_result"
    }
   ],
   "source": [
    "df.Country.unique()"
   ]
  },
  {
   "cell_type": "code",
   "execution_count": 42,
   "id": "19256677",
   "metadata": {},
   "outputs": [
    {
     "data": {
      "text/html": [
       "<div>\n",
       "<style scoped>\n",
       "    .dataframe tbody tr th:only-of-type {\n",
       "        vertical-align: middle;\n",
       "    }\n",
       "\n",
       "    .dataframe tbody tr th {\n",
       "        vertical-align: top;\n",
       "    }\n",
       "\n",
       "    .dataframe thead th {\n",
       "        text-align: right;\n",
       "    }\n",
       "</style>\n",
       "<table border=\"1\" class=\"dataframe\">\n",
       "  <thead>\n",
       "    <tr style=\"text-align: right;\">\n",
       "      <th></th>\n",
       "      <th>Country</th>\n",
       "      <th>EdLevel</th>\n",
       "      <th>YearsCodePro</th>\n",
       "      <th>Salary</th>\n",
       "      <th>Age</th>\n",
       "    </tr>\n",
       "  </thead>\n",
       "  <tbody>\n",
       "    <tr>\n",
       "      <th>9</th>\n",
       "      <td>Sweden</td>\n",
       "      <td>Master’s degree</td>\n",
       "      <td>4.0</td>\n",
       "      <td>51552.0</td>\n",
       "      <td>25-34 years old</td>\n",
       "    </tr>\n",
       "    <tr>\n",
       "      <th>11</th>\n",
       "      <td>Spain</td>\n",
       "      <td>Bachelor’s degree</td>\n",
       "      <td>5.0</td>\n",
       "      <td>46482.0</td>\n",
       "      <td>25-34 years old</td>\n",
       "    </tr>\n",
       "    <tr>\n",
       "      <th>12</th>\n",
       "      <td>Germany</td>\n",
       "      <td>Master’s degree</td>\n",
       "      <td>6.0</td>\n",
       "      <td>77290.0</td>\n",
       "      <td>25-34 years old</td>\n",
       "    </tr>\n",
       "    <tr>\n",
       "      <th>16</th>\n",
       "      <td>Turkey</td>\n",
       "      <td>Bachelor’s degree</td>\n",
       "      <td>2.0</td>\n",
       "      <td>17748.0</td>\n",
       "      <td>25-34 years old</td>\n",
       "    </tr>\n",
       "    <tr>\n",
       "      <th>17</th>\n",
       "      <td>Canada</td>\n",
       "      <td>Bachelor’s degree</td>\n",
       "      <td>6.0</td>\n",
       "      <td>46135.0</td>\n",
       "      <td>25-34 years old</td>\n",
       "    </tr>\n",
       "    <tr>\n",
       "      <th>...</th>\n",
       "      <td>...</td>\n",
       "      <td>...</td>\n",
       "      <td>...</td>\n",
       "      <td>...</td>\n",
       "      <td>...</td>\n",
       "    </tr>\n",
       "    <tr>\n",
       "      <th>83430</th>\n",
       "      <td>USA</td>\n",
       "      <td>Master’s degree</td>\n",
       "      <td>21.0</td>\n",
       "      <td>125000.0</td>\n",
       "      <td>45-54 years old</td>\n",
       "    </tr>\n",
       "    <tr>\n",
       "      <th>83432</th>\n",
       "      <td>Canada</td>\n",
       "      <td>Bachelor’s degree</td>\n",
       "      <td>0.5</td>\n",
       "      <td>80169.0</td>\n",
       "      <td>18-24 years old</td>\n",
       "    </tr>\n",
       "    <tr>\n",
       "      <th>83434</th>\n",
       "      <td>USA</td>\n",
       "      <td>Bachelor’s degree</td>\n",
       "      <td>5.0</td>\n",
       "      <td>160500.0</td>\n",
       "      <td>25-34 years old</td>\n",
       "    </tr>\n",
       "    <tr>\n",
       "      <th>83436</th>\n",
       "      <td>USA</td>\n",
       "      <td>Less than a Bachelors</td>\n",
       "      <td>4.0</td>\n",
       "      <td>90000.0</td>\n",
       "      <td>25-34 years old</td>\n",
       "    </tr>\n",
       "    <tr>\n",
       "      <th>83438</th>\n",
       "      <td>Brazil</td>\n",
       "      <td>Post grad</td>\n",
       "      <td>4.0</td>\n",
       "      <td>21168.0</td>\n",
       "      <td>18-24 years old</td>\n",
       "    </tr>\n",
       "  </tbody>\n",
       "</table>\n",
       "<p>30063 rows × 5 columns</p>\n",
       "</div>"
      ],
      "text/plain": [
       "       Country                EdLevel  YearsCodePro    Salary              Age\n",
       "9       Sweden        Master’s degree           4.0   51552.0  25-34 years old\n",
       "11       Spain      Bachelor’s degree           5.0   46482.0  25-34 years old\n",
       "12     Germany        Master’s degree           6.0   77290.0  25-34 years old\n",
       "16      Turkey      Bachelor’s degree           2.0   17748.0  25-34 years old\n",
       "17      Canada      Bachelor’s degree           6.0   46135.0  25-34 years old\n",
       "...        ...                    ...           ...       ...              ...\n",
       "83430      USA        Master’s degree          21.0  125000.0  45-54 years old\n",
       "83432   Canada      Bachelor’s degree           0.5   80169.0  18-24 years old\n",
       "83434      USA      Bachelor’s degree           5.0  160500.0  25-34 years old\n",
       "83436      USA  Less than a Bachelors           4.0   90000.0  25-34 years old\n",
       "83438   Brazil              Post grad           4.0   21168.0  18-24 years old\n",
       "\n",
       "[30063 rows x 5 columns]"
      ]
     },
     "execution_count": 42,
     "metadata": {},
     "output_type": "execute_result"
    }
   ],
   "source": [
    "df"
   ]
  },
  {
   "cell_type": "markdown",
   "id": "8326536f",
   "metadata": {},
   "source": [
    "### Convert strings columns to number by using LebelEncoder\n"
   ]
  },
  {
   "cell_type": "code",
   "execution_count": 43,
   "id": "287ee61d",
   "metadata": {},
   "outputs": [
    {
     "name": "stderr",
     "output_type": "stream",
     "text": [
      "/Users/gakas/salary_prediction/ml_salary_prediction/lib/python3.7/site-packages/pandas/core/generic.py:5516: SettingWithCopyWarning: \n",
      "A value is trying to be set on a copy of a slice from a DataFrame.\n",
      "Try using .loc[row_indexer,col_indexer] = value instead\n",
      "\n",
      "See the caveats in the documentation: https://pandas.pydata.org/pandas-docs/stable/user_guide/indexing.html#returning-a-view-versus-a-copy\n",
      "  self[name] = value\n"
     ]
    }
   ],
   "source": [
    "from sklearn.preprocessing import LabelEncoder\n",
    "\n",
    "# Let's convert the education column\n",
    "edu_label = LabelEncoder()\n",
    "df.EdLevel = edu_label.fit_transform(df.EdLevel)"
   ]
  },
  {
   "cell_type": "code",
   "execution_count": 44,
   "id": "f13fdea9",
   "metadata": {},
   "outputs": [
    {
     "data": {
      "text/plain": [
       "array([2, 0, 3, 1])"
      ]
     },
     "execution_count": 44,
     "metadata": {},
     "output_type": "execute_result"
    }
   ],
   "source": [
    "df.EdLevel.unique()"
   ]
  },
  {
   "cell_type": "code",
   "execution_count": 45,
   "id": "c5edff5a",
   "metadata": {},
   "outputs": [
    {
     "data": {
      "text/plain": [
       "array([28, 27, 11, 30,  5, 10, 29, 31, 25, 15, 33, 32,  4, 12, 16, 18, 22,\n",
       "        2, 24,  1,  3, 14, 13,  8,  9,  0, 23, 26, 21, 20,  7,  6, 17, 19])"
      ]
     },
     "execution_count": 45,
     "metadata": {},
     "output_type": "execute_result"
    }
   ],
   "source": [
    "# Let's convert the country column\n",
    "country_label = LabelEncoder()\n",
    "df.Country = country_label.fit_transform(df.Country)\n",
    "df.Country.unique()"
   ]
  },
  {
   "cell_type": "code",
   "execution_count": 46,
   "id": "fd2f23dc",
   "metadata": {},
   "outputs": [
    {
     "data": {
      "text/plain": [
       "array([1, 2, 3, 0, 4, 5, 6])"
      ]
     },
     "execution_count": 46,
     "metadata": {},
     "output_type": "execute_result"
    }
   ],
   "source": [
    "# let's coverte the column age\n",
    "age_label = LabelEncoder()\n",
    "df.Age = age_label.fit_transform(df.Age)\n",
    "df.Age.unique()\n",
    "\n",
    "# to covert age let's use ONEHOT ENCODING\n",
    "#X_cat = df.copy()\n",
    "#X_cat = df.select_dtypes(include=['object'])\n",
    "#X_enc = X_cat.copy()\n",
    "\n",
    "\n",
    "#X_enc = pd.get_dummies(X_enc, columns=['Age'])\n",
    "\n",
    "#df = df.drop(['Age'],axis=1)\n",
    "#df = pd.concat([df,X_enc], axis=1)"
   ]
  },
  {
   "cell_type": "code",
   "execution_count": 47,
   "id": "2b6bd834",
   "metadata": {},
   "outputs": [
    {
     "data": {
      "text/html": [
       "<div>\n",
       "<style scoped>\n",
       "    .dataframe tbody tr th:only-of-type {\n",
       "        vertical-align: middle;\n",
       "    }\n",
       "\n",
       "    .dataframe tbody tr th {\n",
       "        vertical-align: top;\n",
       "    }\n",
       "\n",
       "    .dataframe thead th {\n",
       "        text-align: right;\n",
       "    }\n",
       "</style>\n",
       "<table border=\"1\" class=\"dataframe\">\n",
       "  <thead>\n",
       "    <tr style=\"text-align: right;\">\n",
       "      <th></th>\n",
       "      <th>Country</th>\n",
       "      <th>EdLevel</th>\n",
       "      <th>YearsCodePro</th>\n",
       "      <th>Salary</th>\n",
       "      <th>Age</th>\n",
       "    </tr>\n",
       "  </thead>\n",
       "  <tbody>\n",
       "    <tr>\n",
       "      <th>9</th>\n",
       "      <td>28</td>\n",
       "      <td>2</td>\n",
       "      <td>4.0</td>\n",
       "      <td>51552.0</td>\n",
       "      <td>1</td>\n",
       "    </tr>\n",
       "    <tr>\n",
       "      <th>11</th>\n",
       "      <td>27</td>\n",
       "      <td>0</td>\n",
       "      <td>5.0</td>\n",
       "      <td>46482.0</td>\n",
       "      <td>1</td>\n",
       "    </tr>\n",
       "    <tr>\n",
       "      <th>12</th>\n",
       "      <td>11</td>\n",
       "      <td>2</td>\n",
       "      <td>6.0</td>\n",
       "      <td>77290.0</td>\n",
       "      <td>1</td>\n",
       "    </tr>\n",
       "    <tr>\n",
       "      <th>16</th>\n",
       "      <td>30</td>\n",
       "      <td>0</td>\n",
       "      <td>2.0</td>\n",
       "      <td>17748.0</td>\n",
       "      <td>1</td>\n",
       "    </tr>\n",
       "    <tr>\n",
       "      <th>17</th>\n",
       "      <td>5</td>\n",
       "      <td>0</td>\n",
       "      <td>6.0</td>\n",
       "      <td>46135.0</td>\n",
       "      <td>1</td>\n",
       "    </tr>\n",
       "    <tr>\n",
       "      <th>...</th>\n",
       "      <td>...</td>\n",
       "      <td>...</td>\n",
       "      <td>...</td>\n",
       "      <td>...</td>\n",
       "      <td>...</td>\n",
       "    </tr>\n",
       "    <tr>\n",
       "      <th>83430</th>\n",
       "      <td>32</td>\n",
       "      <td>2</td>\n",
       "      <td>21.0</td>\n",
       "      <td>125000.0</td>\n",
       "      <td>3</td>\n",
       "    </tr>\n",
       "    <tr>\n",
       "      <th>83432</th>\n",
       "      <td>5</td>\n",
       "      <td>0</td>\n",
       "      <td>0.5</td>\n",
       "      <td>80169.0</td>\n",
       "      <td>0</td>\n",
       "    </tr>\n",
       "    <tr>\n",
       "      <th>83434</th>\n",
       "      <td>32</td>\n",
       "      <td>0</td>\n",
       "      <td>5.0</td>\n",
       "      <td>160500.0</td>\n",
       "      <td>1</td>\n",
       "    </tr>\n",
       "    <tr>\n",
       "      <th>83436</th>\n",
       "      <td>32</td>\n",
       "      <td>1</td>\n",
       "      <td>4.0</td>\n",
       "      <td>90000.0</td>\n",
       "      <td>1</td>\n",
       "    </tr>\n",
       "    <tr>\n",
       "      <th>83438</th>\n",
       "      <td>4</td>\n",
       "      <td>3</td>\n",
       "      <td>4.0</td>\n",
       "      <td>21168.0</td>\n",
       "      <td>0</td>\n",
       "    </tr>\n",
       "  </tbody>\n",
       "</table>\n",
       "<p>30063 rows × 5 columns</p>\n",
       "</div>"
      ],
      "text/plain": [
       "       Country  EdLevel  YearsCodePro    Salary  Age\n",
       "9           28        2           4.0   51552.0    1\n",
       "11          27        0           5.0   46482.0    1\n",
       "12          11        2           6.0   77290.0    1\n",
       "16          30        0           2.0   17748.0    1\n",
       "17           5        0           6.0   46135.0    1\n",
       "...        ...      ...           ...       ...  ...\n",
       "83430       32        2          21.0  125000.0    3\n",
       "83432        5        0           0.5   80169.0    0\n",
       "83434       32        0           5.0  160500.0    1\n",
       "83436       32        1           4.0   90000.0    1\n",
       "83438        4        3           4.0   21168.0    0\n",
       "\n",
       "[30063 rows x 5 columns]"
      ]
     },
     "execution_count": 47,
     "metadata": {},
     "output_type": "execute_result"
    }
   ],
   "source": [
    "df"
   ]
  },
  {
   "cell_type": "markdown",
   "id": "10c9bfe9",
   "metadata": {},
   "source": [
    "### Create the model"
   ]
  },
  {
   "cell_type": "code",
   "execution_count": 48,
   "id": "1b6dca5e",
   "metadata": {},
   "outputs": [],
   "source": [
    "# Let's separate the data into features(X) and label(y)\n",
    "X = df.drop('Salary',axis=1)\n",
    "y = df['Salary']"
   ]
  },
  {
   "cell_type": "code",
   "execution_count": 49,
   "id": "3a3125f7",
   "metadata": {},
   "outputs": [
    {
     "data": {
      "text/plain": [
       "LinearRegression()"
      ]
     },
     "execution_count": 49,
     "metadata": {},
     "output_type": "execute_result"
    }
   ],
   "source": [
    "# train the model \n",
    "\n",
    "from sklearn.model_selection import train_test_split\n",
    "\n",
    "X_train, X_test, y_train, y_test = train_test_split(X,y.values, test_size=0.3, random_state=1234)\n",
    "\n",
    "#linearRegression\n",
    "from sklearn.linear_model import LinearRegression\n",
    "lg = LinearRegression()\n",
    "lg.fit(X,y.values)"
   ]
  },
  {
   "cell_type": "code",
   "execution_count": 50,
   "id": "5c5d032f",
   "metadata": {},
   "outputs": [],
   "source": [
    "y_pred = lg.predict(X)"
   ]
  },
  {
   "cell_type": "code",
   "execution_count": 51,
   "id": "569553ea",
   "metadata": {},
   "outputs": [
    {
     "data": {
      "text/plain": [
       "37638.854888956754"
      ]
     },
     "execution_count": 51,
     "metadata": {},
     "output_type": "execute_result"
    }
   ],
   "source": [
    "# let's get the mean squared error\n",
    "from sklearn.metrics import mean_squared_error, mean_absolute_error\n",
    "error = np.sqrt(mean_squared_error(y,y_pred))\n",
    "error"
   ]
  },
  {
   "cell_type": "markdown",
   "id": "e0db61c9",
   "metadata": {},
   "source": [
    "The mean squared error is too hight. Let's try a different classiffier."
   ]
  },
  {
   "cell_type": "code",
   "execution_count": 52,
   "id": "8994c722",
   "metadata": {},
   "outputs": [
    {
     "data": {
      "text/plain": [
       "DecisionTreeRegressor(random_state=0)"
      ]
     },
     "execution_count": 52,
     "metadata": {},
     "output_type": "execute_result"
    }
   ],
   "source": [
    "# Decission tree\n",
    "from sklearn.tree import DecisionTreeRegressor\n",
    "dec_tree_reg = DecisionTreeRegressor(random_state=0)\n",
    "dec_tree_reg.fit(X,y.values)\n",
    "#dec_tree_reg.fit(X_train,y_train)\n"
   ]
  },
  {
   "cell_type": "code",
   "execution_count": 53,
   "id": "ca808520",
   "metadata": {},
   "outputs": [],
   "source": [
    "dec_tree_predict = dec_tree_reg.predict(X)\n",
    "#dec_tree_predict = dec_tree_reg.predict(X_test)"
   ]
  },
  {
   "cell_type": "code",
   "execution_count": 54,
   "id": "ba99fc4d",
   "metadata": {},
   "outputs": [
    {
     "name": "stdout",
     "output_type": "stream",
     "text": [
      "$24,321.46\n"
     ]
    }
   ],
   "source": [
    "dec_tree_error = np.sqrt(mean_squared_error(y,dec_tree_predict))\n",
    "#dec_tree_error = np.sqrt(mean_squared_error(y_test,dec_tree_predict))\n",
    "print(f'${dec_tree_error:,.2f}')"
   ]
  },
  {
   "cell_type": "markdown",
   "id": "926f53ac",
   "metadata": {},
   "source": [
    "Decision Tree Regressor is better but the error still high.\n"
   ]
  },
  {
   "cell_type": "code",
   "execution_count": 55,
   "id": "e3e1d2ec",
   "metadata": {},
   "outputs": [
    {
     "data": {
      "text/plain": [
       "RandomForestRegressor()"
      ]
     },
     "execution_count": 55,
     "metadata": {},
     "output_type": "execute_result"
    }
   ],
   "source": [
    "# Random forest\n",
    "from sklearn.ensemble import RandomForestRegressor\n",
    "ran_forest_reg = RandomForestRegressor()\n",
    "ran_forest_reg.fit(X,y.values)"
   ]
  },
  {
   "cell_type": "code",
   "execution_count": 56,
   "id": "d81b68d8",
   "metadata": {},
   "outputs": [],
   "source": [
    "random_forest_pred = ran_forest_reg.predict(X)"
   ]
  },
  {
   "cell_type": "code",
   "execution_count": 57,
   "id": "62c1bc0b",
   "metadata": {},
   "outputs": [
    {
     "name": "stdout",
     "output_type": "stream",
     "text": [
      "$24,543.82\n"
     ]
    }
   ],
   "source": [
    "dec_tree_error = np.sqrt(mean_squared_error(y,random_forest_pred))\n",
    "print(f'${dec_tree_error:,.2f}')"
   ]
  },
  {
   "cell_type": "code",
   "execution_count": 58,
   "id": "e79ac6a9",
   "metadata": {},
   "outputs": [
    {
     "data": {
      "text/plain": [
       "GridSearchCV(estimator=DecisionTreeRegressor(random_state=1234),\n",
       "             param_grid={'max_depth': [None, 2, 4, 6, 8, 10, 12]},\n",
       "             scoring='neg_mean_squared_error')"
      ]
     },
     "execution_count": 58,
     "metadata": {},
     "output_type": "execute_result"
    }
   ],
   "source": [
    "# let's use GridSerach CrossValidation to select the best estimator\n",
    "from sklearn.model_selection import GridSearchCV\n",
    "max_depth = [None,2,4,6,8,10,12]\n",
    "parameter = {'max_depth':max_depth}\n",
    "\n",
    "regressor = DecisionTreeRegressor(random_state=1234)\n",
    "gs = GridSearchCV(regressor, parameter, scoring='neg_mean_squared_error')\n",
    "gs.fit(X, y.values)"
   ]
  },
  {
   "cell_type": "code",
   "execution_count": 59,
   "id": "f4a7ca57",
   "metadata": {},
   "outputs": [
    {
     "name": "stdout",
     "output_type": "stream",
     "text": [
      "$26,466.26\n"
     ]
    }
   ],
   "source": [
    "# get the best estimator\n",
    "regressor = gs.best_estimator_\n",
    "\n",
    "regressor.fit(X,y.values)\n",
    "y_predict = regressor.predict(X)\n",
    "error = np.sqrt(mean_squared_error(y,y_predict))\n",
    "print(f'${error:,.2f}')\n",
    "             "
   ]
  },
  {
   "cell_type": "markdown",
   "id": "230af7c7",
   "metadata": {},
   "source": [
    "### let's try to predict a new value"
   ]
  },
  {
   "cell_type": "code",
   "execution_count": 60,
   "id": "986d53d3",
   "metadata": {},
   "outputs": [
    {
     "data": {
      "text/html": [
       "<div>\n",
       "<style scoped>\n",
       "    .dataframe tbody tr th:only-of-type {\n",
       "        vertical-align: middle;\n",
       "    }\n",
       "\n",
       "    .dataframe tbody tr th {\n",
       "        vertical-align: top;\n",
       "    }\n",
       "\n",
       "    .dataframe thead th {\n",
       "        text-align: right;\n",
       "    }\n",
       "</style>\n",
       "<table border=\"1\" class=\"dataframe\">\n",
       "  <thead>\n",
       "    <tr style=\"text-align: right;\">\n",
       "      <th></th>\n",
       "      <th>Country</th>\n",
       "      <th>EdLevel</th>\n",
       "      <th>YearsCodePro</th>\n",
       "      <th>Age</th>\n",
       "    </tr>\n",
       "  </thead>\n",
       "  <tbody>\n",
       "    <tr>\n",
       "      <th>9</th>\n",
       "      <td>28</td>\n",
       "      <td>2</td>\n",
       "      <td>4.0</td>\n",
       "      <td>1</td>\n",
       "    </tr>\n",
       "    <tr>\n",
       "      <th>11</th>\n",
       "      <td>27</td>\n",
       "      <td>0</td>\n",
       "      <td>5.0</td>\n",
       "      <td>1</td>\n",
       "    </tr>\n",
       "    <tr>\n",
       "      <th>12</th>\n",
       "      <td>11</td>\n",
       "      <td>2</td>\n",
       "      <td>6.0</td>\n",
       "      <td>1</td>\n",
       "    </tr>\n",
       "    <tr>\n",
       "      <th>16</th>\n",
       "      <td>30</td>\n",
       "      <td>0</td>\n",
       "      <td>2.0</td>\n",
       "      <td>1</td>\n",
       "    </tr>\n",
       "    <tr>\n",
       "      <th>17</th>\n",
       "      <td>5</td>\n",
       "      <td>0</td>\n",
       "      <td>6.0</td>\n",
       "      <td>1</td>\n",
       "    </tr>\n",
       "    <tr>\n",
       "      <th>...</th>\n",
       "      <td>...</td>\n",
       "      <td>...</td>\n",
       "      <td>...</td>\n",
       "      <td>...</td>\n",
       "    </tr>\n",
       "    <tr>\n",
       "      <th>83430</th>\n",
       "      <td>32</td>\n",
       "      <td>2</td>\n",
       "      <td>21.0</td>\n",
       "      <td>3</td>\n",
       "    </tr>\n",
       "    <tr>\n",
       "      <th>83432</th>\n",
       "      <td>5</td>\n",
       "      <td>0</td>\n",
       "      <td>0.5</td>\n",
       "      <td>0</td>\n",
       "    </tr>\n",
       "    <tr>\n",
       "      <th>83434</th>\n",
       "      <td>32</td>\n",
       "      <td>0</td>\n",
       "      <td>5.0</td>\n",
       "      <td>1</td>\n",
       "    </tr>\n",
       "    <tr>\n",
       "      <th>83436</th>\n",
       "      <td>32</td>\n",
       "      <td>1</td>\n",
       "      <td>4.0</td>\n",
       "      <td>1</td>\n",
       "    </tr>\n",
       "    <tr>\n",
       "      <th>83438</th>\n",
       "      <td>4</td>\n",
       "      <td>3</td>\n",
       "      <td>4.0</td>\n",
       "      <td>0</td>\n",
       "    </tr>\n",
       "  </tbody>\n",
       "</table>\n",
       "<p>30063 rows × 4 columns</p>\n",
       "</div>"
      ],
      "text/plain": [
       "       Country  EdLevel  YearsCodePro  Age\n",
       "9           28        2           4.0    1\n",
       "11          27        0           5.0    1\n",
       "12          11        2           6.0    1\n",
       "16          30        0           2.0    1\n",
       "17           5        0           6.0    1\n",
       "...        ...      ...           ...  ...\n",
       "83430       32        2          21.0    3\n",
       "83432        5        0           0.5    0\n",
       "83434       32        0           5.0    1\n",
       "83436       32        1           4.0    1\n",
       "83438        4        3           4.0    0\n",
       "\n",
       "[30063 rows x 4 columns]"
      ]
     },
     "execution_count": 60,
     "metadata": {},
     "output_type": "execute_result"
    }
   ],
   "source": [
    "X"
   ]
  },
  {
   "cell_type": "code",
   "execution_count": 61,
   "id": "1f43d79a",
   "metadata": {},
   "outputs": [
    {
     "data": {
      "text/plain": [
       "array([['Spain', 'Less than a Bachelors', '15', '25-34 years old']],\n",
       "      dtype='<U21')"
      ]
     },
     "execution_count": 61,
     "metadata": {},
     "output_type": "execute_result"
    }
   ],
   "source": [
    "x = np.array([['Spain','Less than a Bachelors',15,'25-34 years old']])\n",
    "x"
   ]
  },
  {
   "cell_type": "code",
   "execution_count": 62,
   "id": "bb0c32d0",
   "metadata": {},
   "outputs": [
    {
     "data": {
      "text/plain": [
       "array(['25-34 years old'], dtype='<U21')"
      ]
     },
     "execution_count": 62,
     "metadata": {},
     "output_type": "execute_result"
    }
   ],
   "source": [
    "x[:,3]"
   ]
  },
  {
   "cell_type": "code",
   "execution_count": 63,
   "id": "93c28fa0",
   "metadata": {},
   "outputs": [
    {
     "data": {
      "text/plain": [
       "array([[27.,  1., 15.,  1.]])"
      ]
     },
     "execution_count": 63,
     "metadata": {},
     "output_type": "execute_result"
    }
   ],
   "source": [
    "x[:,0] = country_label.transform(x[:,0])\n",
    "x[:,1] = edu_label.transform(x[:,1])\n",
    "x[:,3] = age_label.transform(x[:,3])\n",
    "#x[:,3] = pd.get_dummies(x[:,3], columns=['Age'])\n",
    "x = x.astype(float)\n",
    "x"
   ]
  },
  {
   "cell_type": "code",
   "execution_count": 64,
   "id": "45d50ea1",
   "metadata": {},
   "outputs": [
    {
     "name": "stderr",
     "output_type": "stream",
     "text": [
      "/Users/gakas/salary_prediction/ml_salary_prediction/lib/python3.7/site-packages/sklearn/base.py:451: UserWarning: X does not have valid feature names, but DecisionTreeRegressor was fitted with feature names\n",
      "  \"X does not have valid feature names, but\"\n"
     ]
    },
    {
     "data": {
      "text/plain": [
       "array([110261.5])"
      ]
     },
     "execution_count": 64,
     "metadata": {},
     "output_type": "execute_result"
    }
   ],
   "source": [
    "# Predict the salary for x \n",
    "new_predict = dec_tree_reg.predict(x)\n",
    "new_predict"
   ]
  },
  {
   "cell_type": "code",
   "execution_count": 65,
   "id": "c560e599",
   "metadata": {},
   "outputs": [
    {
     "name": "stdout",
     "output_type": "stream",
     "text": [
      "$25697.44\n"
     ]
    }
   ],
   "source": [
    "# Let's use Xgboost\n",
    "import xgboost\n",
    "\n",
    "\n",
    "# let's splite the dataset\n",
    "\n",
    "\n",
    "\n",
    "xgb = xgboost.XGBRegressor()\n",
    "xgb.fit(X,y.values)\n",
    "xgb_pred = xgb.predict(X)\n",
    "#xgb.fit(X_train,y_train)\n",
    "#xgb_test_pred = xgb.predict(X_test)\n",
    "#xgb_pred = xgb.predict(X)\n",
    "\n",
    "\n",
    "xgb_error = np.sqrt(mean_squared_error(y,xgb_pred))\n",
    "print(f'${xgb_error:0.2f}')"
   ]
  },
  {
   "cell_type": "markdown",
   "id": "46b8e207",
   "metadata": {},
   "source": [
    "### let's save our model with pickle"
   ]
  },
  {
   "cell_type": "code",
   "execution_count": 907,
   "id": "b00b0830",
   "metadata": {},
   "outputs": [],
   "source": [
    "import pickle\n",
    "\n",
    "# we need to save the data, the education encoder and the country encoder \n",
    "data= {'model':dec_tree_reg, 'le_country':country_label, 'le_education':edu_label, 'le_age':age_label}\n",
    "with open('save_step.pkl', 'wb') as file:\n",
    "    pickle.dump(data,file)\n"
   ]
  },
  {
   "cell_type": "code",
   "execution_count": null,
   "id": "4965f470",
   "metadata": {},
   "outputs": [],
   "source": []
  },
  {
   "cell_type": "code",
   "execution_count": 908,
   "id": "b525dcdf",
   "metadata": {},
   "outputs": [],
   "source": [
    "# let's reload the pickle file\n",
    "\n",
    "with open ('save_step.pkl','rb') as file:\n",
    "    load_data = pickle.load(file)\n",
    "    \n",
    "load_regression = load_data['model']\n",
    "country_label = load_data['le_country']\n",
    "edu_label = load_data['le_education']\n",
    "age_label = load_data['le_age']"
   ]
  },
  {
   "cell_type": "code",
   "execution_count": 909,
   "id": "578cf0f5",
   "metadata": {},
   "outputs": [
    {
     "name": "stderr",
     "output_type": "stream",
     "text": [
      "/Users/gakas/salary_prediction/ml_salary_prediction/lib/python3.7/site-packages/sklearn/base.py:451: UserWarning: X does not have valid feature names, but DecisionTreeRegressor was fitted with feature names\n",
      "  \"X does not have valid feature names, but\"\n"
     ]
    },
    {
     "data": {
      "text/plain": [
       "array([110261.5])"
      ]
     },
     "execution_count": 909,
     "metadata": {},
     "output_type": "execute_result"
    }
   ],
   "source": [
    "p = load_regression.predict(x)\n",
    "p"
   ]
  },
  {
   "cell_type": "code",
   "execution_count": null,
   "id": "34deb171",
   "metadata": {},
   "outputs": [],
   "source": []
  }
 ],
 "metadata": {
  "kernelspec": {
   "display_name": "ml_salary_prediction",
   "language": "python",
   "name": "ml_salary_prediction"
  },
  "language_info": {
   "codemirror_mode": {
    "name": "ipython",
    "version": 3
   },
   "file_extension": ".py",
   "mimetype": "text/x-python",
   "name": "python",
   "nbconvert_exporter": "python",
   "pygments_lexer": "ipython3",
   "version": "3.7.6"
  }
 },
 "nbformat": 4,
 "nbformat_minor": 5
}
